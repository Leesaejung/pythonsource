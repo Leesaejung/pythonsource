{
 "cells": [
  {
   "cell_type": "code",
   "execution_count": 93,
   "metadata": {},
   "outputs": [],
   "source": [
    "# 데스크 탑 자동화 pyautogui, pyperclip, \n",
    "\n",
    "# pip install opencv-python\n",
    "# pip install pyautogui"
   ]
  },
  {
   "cell_type": "code",
   "execution_count": 94,
   "metadata": {},
   "outputs": [
    {
     "name": "stdout",
     "output_type": "stream",
     "text": [
      "Size(width=1920, height=1080)\n"
     ]
    }
   ],
   "source": [
    "import pyautogui\n",
    "\n",
    "\n",
    "# 현재 화면의 스크린 사이즈 가져오기\n",
    "size = pyautogui.size()\n",
    "print(size)"
   ]
  },
  {
   "cell_type": "code",
   "execution_count": 95,
   "metadata": {},
   "outputs": [
    {
     "name": "stdout",
     "output_type": "stream",
     "text": [
      "1920\n",
      "1080\n"
     ]
    }
   ],
   "source": [
    "print(size[0])\n",
    "print(size[1])"
   ]
  },
  {
   "cell_type": "code",
   "execution_count": 2,
   "metadata": {},
   "outputs": [
    {
     "name": "stdout",
     "output_type": "stream",
     "text": [
      "2821 576\n"
     ]
    }
   ],
   "source": [
    "# 마우스 핸들링\n",
    "\n",
    "import pyautogui as p\n",
    "\n",
    "\n",
    "# 마우스 위치 좌표 구하기\n",
    "position = p.position()\n",
    "print(position.x, position.y)"
   ]
  },
  {
   "cell_type": "code",
   "execution_count": 97,
   "metadata": {},
   "outputs": [],
   "source": [
    "# moveTo(x좌표, y좌표) : 절대좌표\n",
    "p.moveTo(100,100,0.5)\n",
    "p.moveTo(200,200,0.5)\n",
    "p.moveTo(300,300,0.5)"
   ]
  },
  {
   "cell_type": "code",
   "execution_count": 98,
   "metadata": {},
   "outputs": [
    {
     "name": "stdout",
     "output_type": "stream",
     "text": [
      "Point(x=713, y=473)\n"
     ]
    }
   ],
   "source": [
    "# move(), moveRel() : 상대좌표\n",
    "\n",
    "p.moveTo(300,300,0.25)\n",
    "p.move(100,100,0.25)\n",
    "print(p.position())\n",
    "p.move(200,200,0.25)"
   ]
  },
  {
   "cell_type": "code",
   "execution_count": 99,
   "metadata": {},
   "outputs": [
    {
     "name": "stdout",
     "output_type": "stream",
     "text": [
      "Point(x=1007, y=121)\n"
     ]
    }
   ],
   "source": [
    "p.sleep(3)\n",
    "print(p.position())"
   ]
  },
  {
   "cell_type": "code",
   "execution_count": 100,
   "metadata": {},
   "outputs": [],
   "source": [
    "p.click(2022,32,1)"
   ]
  },
  {
   "cell_type": "code",
   "execution_count": 101,
   "metadata": {},
   "outputs": [
    {
     "ename": "KeyboardInterrupt",
     "evalue": "",
     "output_type": "error",
     "traceback": [
      "\u001b[1;31m---------------------------------------------------------------------------\u001b[0m",
      "\u001b[1;31mKeyboardInterrupt\u001b[0m                         Traceback (most recent call last)",
      "Cell \u001b[1;32mIn[101], line 2\u001b[0m\n\u001b[0;32m      1\u001b[0m p\u001b[39m.\u001b[39msleep(\u001b[39m1\u001b[39m)\n\u001b[1;32m----> 2\u001b[0m p\u001b[39m.\u001b[39;49mclick(clicks\u001b[39m=\u001b[39;49m\u001b[39m2\u001b[39;49m)\n",
      "File \u001b[1;32mc:\\source\\pythonsource\\Lib\\site-packages\\pyautogui\\__init__.py:595\u001b[0m, in \u001b[0;36m_genericPyAutoGUIChecks.<locals>.wrapper\u001b[1;34m(*args, **kwargs)\u001b[0m\n\u001b[0;32m    593\u001b[0m failSafeCheck()\n\u001b[0;32m    594\u001b[0m returnVal \u001b[39m=\u001b[39m wrappedFunction(\u001b[39m*\u001b[39margs, \u001b[39m*\u001b[39m\u001b[39m*\u001b[39mkwargs)\n\u001b[1;32m--> 595\u001b[0m _handlePause(kwargs\u001b[39m.\u001b[39;49mget(\u001b[39m\"\u001b[39;49m\u001b[39m_pause\u001b[39;49m\u001b[39m\"\u001b[39;49m, \u001b[39mTrue\u001b[39;49;00m))\n\u001b[0;32m    596\u001b[0m \u001b[39mreturn\u001b[39;00m returnVal\n",
      "File \u001b[1;32mc:\\source\\pythonsource\\Lib\\site-packages\\pyautogui\\__init__.py:639\u001b[0m, in \u001b[0;36m_handlePause\u001b[1;34m(_pause)\u001b[0m\n\u001b[0;32m    637\u001b[0m \u001b[39mif\u001b[39;00m _pause:\n\u001b[0;32m    638\u001b[0m     \u001b[39massert\u001b[39;00m \u001b[39misinstance\u001b[39m(PAUSE, \u001b[39mint\u001b[39m) \u001b[39mor\u001b[39;00m \u001b[39misinstance\u001b[39m(PAUSE, \u001b[39mfloat\u001b[39m)\n\u001b[1;32m--> 639\u001b[0m     time\u001b[39m.\u001b[39msleep(PAUSE)\n",
      "\u001b[1;31mKeyboardInterrupt\u001b[0m: "
     ]
    }
   ],
   "source": [
    "p.sleep(1)\n",
    "p.click(clicks=2)"
   ]
  },
  {
   "cell_type": "code",
   "execution_count": null,
   "metadata": {},
   "outputs": [],
   "source": [
    "p.doubleClick(487,142)"
   ]
  },
  {
   "cell_type": "code",
   "execution_count": null,
   "metadata": {},
   "outputs": [],
   "source": [
    "p.rightClick(500,300)"
   ]
  },
  {
   "cell_type": "code",
   "execution_count": null,
   "metadata": {},
   "outputs": [],
   "source": [
    "# mouseDown() / mouseUp()\n",
    "\n",
    "p.sleep(3)\n",
    "p.moveTo(300,300)\n",
    "p.mouseDown()\n",
    "p.moveTo(500,500)\n",
    "p.mouseUp()"
   ]
  },
  {
   "cell_type": "code",
   "execution_count": null,
   "metadata": {},
   "outputs": [
    {
     "name": "stdout",
     "output_type": "stream",
     "text": [
      "Point(x=3641, y=75)\n"
     ]
    }
   ],
   "source": [
    "p.sleep(3)\n",
    "# 메모장 타이틀 바 위치 알아내기\n",
    "print(p.position())"
   ]
  },
  {
   "cell_type": "code",
   "execution_count": null,
   "metadata": {},
   "outputs": [],
   "source": [
    "p.moveTo(3641,75)\n",
    "p.drag(100,0,duration=0.25) # 상대좌표"
   ]
  },
  {
   "cell_type": "code",
   "execution_count": null,
   "metadata": {},
   "outputs": [],
   "source": [
    "p.moveTo(3641,75)\n",
    "p.dragTo(3751,100,duration=0.25) # 절대좌표"
   ]
  },
  {
   "cell_type": "code",
   "execution_count": null,
   "metadata": {},
   "outputs": [],
   "source": [
    "# scroll(숫자 - 음수:아래, 양수:위)\n",
    "\n",
    "p.sleep(3)\n",
    "p.scroll(-1000)  "
   ]
  },
  {
   "cell_type": "code",
   "execution_count": null,
   "metadata": {},
   "outputs": [],
   "source": [
    "p.sleep(2)\n",
    "p.scroll(500)"
   ]
  },
  {
   "cell_type": "code",
   "execution_count": null,
   "metadata": {},
   "outputs": [],
   "source": [
    "# mouseInfo()\n",
    "\n",
    "p.mouseInfo()"
   ]
  },
  {
   "cell_type": "code",
   "execution_count": null,
   "metadata": {},
   "outputs": [],
   "source": [
    "for i in range(10):\n",
    "    p.move(100,100)\n",
    "    p.sleep(1)"
   ]
  },
  {
   "cell_type": "code",
   "execution_count": null,
   "metadata": {},
   "outputs": [],
   "source": [
    "# 전체 스크린샷\n",
    "p.screenshot(\"screen.png\")"
   ]
  },
  {
   "cell_type": "code",
   "execution_count": null,
   "metadata": {},
   "outputs": [
    {
     "data": {
      "image/jpeg": "[encoded data removed]",
      "image/png": "[encoded data removed]",
      "text/plain": [
       "<PIL.Image.Image image mode=RGB size=300x400>"
      ]
     },
     "execution_count": 45,
     "metadata": {},
     "output_type": "execute_result"
    }
   ],
   "source": [
    "# 특정위치의 스크린 샷\n",
    "# region(x축상단,y축상단,width,height)\n",
    "p.screenshot(\"region.png\",region=(0,0,300,400))"
   ]
  },
  {
   "cell_type": "code",
   "execution_count": null,
   "metadata": {},
   "outputs": [
    {
     "name": "stdout",
     "output_type": "stream",
     "text": [
      "None\n"
     ]
    }
   ],
   "source": [
    "# locateOnScreen : 이미지의 화면상 좌표 구하기\n",
    "\n",
    "screen_locate = p.locateOnScreen(\"screen.png\")\n",
    "print(screen_locate)"
   ]
  },
  {
   "cell_type": "code",
   "execution_count": null,
   "metadata": {},
   "outputs": [
    {
     "name": "stdout",
     "output_type": "stream",
     "text": [
      "Box(left=67, top=9, width=49, height=36)\n"
     ]
    }
   ],
   "source": [
    "file_locate = p.locateOnScreen(\"file.png\",confidence=0.9)\n",
    "print(file_locate)\n",
    "p.click(file_locate)"
   ]
  },
  {
   "cell_type": "code",
   "execution_count": null,
   "metadata": {},
   "outputs": [
    {
     "name": "stdout",
     "output_type": "stream",
     "text": [
      "Box(left=1593, top=322, width=21, height=21)\n"
     ]
    }
   ],
   "source": [
    "# confidence 신뢰도 0.8 ~ 0.9\n",
    "checkbox = p.locateOnScreen(\"checkbox.png\",confidence=0.9)\n",
    "print(checkbox)\n",
    "p.click(checkbox)"
   ]
  },
  {
   "cell_type": "code",
   "execution_count": null,
   "metadata": {},
   "outputs": [
    {
     "name": "stdout",
     "output_type": "stream",
     "text": [
      "Box(left=1593, top=322, width=21, height=21)\n",
      "Box(left=1593, top=343, width=21, height=21)\n",
      "Box(left=1593, top=364, width=21, height=21)\n"
     ]
    }
   ],
   "source": [
    "for i in p.locateAllOnScreen(\"checkbox.png\",confidence=0.9):\n",
    "    print(i)\n",
    "    p.click(i)"
   ]
  },
  {
   "cell_type": "code",
   "execution_count": null,
   "metadata": {},
   "outputs": [
    {
     "name": "stdout",
     "output_type": "stream",
     "text": [
      "<Win32Window left=\"1932\", top=\"10\", width=\"1406\", height=\"1032\", title=\"● desktop.ipynb - pythonsource - Visual Studio Code\">\n"
     ]
    }
   ],
   "source": [
    "# 현재 활성화된 창\n",
    "active_window = p.getActiveWindow()\n",
    "print(active_window)"
   ]
  },
  {
   "cell_type": "code",
   "execution_count": null,
   "metadata": {},
   "outputs": [
    {
     "name": "stdout",
     "output_type": "stream",
     "text": [
      "타이틀 ● desktop.ipynb - pythonsource - Visual Studio Code\n",
      "크기 Size(width=1908, height=1032)\n",
      "1932 10 3840 1042\n"
     ]
    }
   ],
   "source": [
    "print(\"타이틀\",active_window.title)\n",
    "print(\"크기\",active_window.size)\n",
    "print(active_window.left,active_window.top,active_window.right,active_window.bottom)"
   ]
  },
  {
   "cell_type": "code",
   "execution_count": null,
   "metadata": {},
   "outputs": [],
   "source": [
    "p.click(active_window.left+25,active_window.top+20)"
   ]
  },
  {
   "cell_type": "code",
   "execution_count": null,
   "metadata": {},
   "outputs": [
    {
     "name": "stdout",
     "output_type": "stream",
     "text": [
      "<Win32Window left=\"1765\", top=\"810\", width=\"83\", height=\"176\", title=\"\">\n",
      "<Win32Window left=\"1913\", top=\"-7\", width=\"1934\", height=\"1094\", title=\"판서펜 - v4.5.1\">\n",
      "<Win32Window left=\"724\", top=\"976\", width=\"473\", height=\"64\", title=\"meet.google.com에서 내 화면을 공유하는 중입니다.\">\n",
      "<Win32Window left=\"0\", top=\"1032\", width=\"1920\", height=\"48\", title=\"\">\n",
      "<Win32Window left=\"1928\", top=\"3\", width=\"1326\", height=\"1032\", title=\"● desktop.ipynb - pythonsource - Visual Studio Code\">\n",
      "<Win32Window left=\"3298\", top=\"506\", width=\"516\", height=\"403\", title=\"새 탭 - Chrome\">\n",
      "<Win32Window left=\"1385\", top=\"24\", width=\"516\", height=\"767\", title=\"Meet - 자바 & 파이썬 활용 통계 기반 빅데이터 개발자 과정 5회차 / 박진경 강사님 (901호) - Chrome\">\n",
      "<Win32Window left=\"3298\", top=\"19\", width=\"474\", height=\"445\", title=\"제목 없음 - 메모장\">\n",
      "<Win32Window left=\"0\", top=\"12\", width=\"1437\", height=\"1006\", title=\"윈도우 - OneNote\">\n",
      "<Win32Window left=\"-8\", top=\"1018\", width=\"1453\", height=\"8\", title=\"\">\n",
      "<Win32Window left=\"1437\", top=\"4\", width=\"8\", height=\"1022\", title=\"\">\n",
      "<Win32Window left=\"-8\", top=\"4\", width=\"8\", height=\"1022\", title=\"\">\n",
      "<Win32Window left=\"-8\", top=\"4\", width=\"1453\", height=\"8\", title=\"\">\n",
      "<Win32Window left=\"0\", top=\"0\", width=\"1920\", height=\"1032\", title=\"\">\n",
      "<Win32Window left=\"1920\", top=\"0\", width=\"1920\", height=\"1032\", title=\"\">\n",
      "<Win32Window left=\"0\", top=\"0\", width=\"1920\", height=\"1080\", title=\"Windows 입력 환경\">\n",
      "<Win32Window left=\"0\", top=\"0\", width=\"0\", height=\"0\", title=\"\">\n",
      "<Win32Window left=\"15\", top=\"0\", width=\"1905\", height=\"4\", title=\"\">\n",
      "<Win32Window left=\"0\", top=\"0\", width=\"16\", height=\"16\", title=\"\">\n",
      "<Win32Window left=\"0\", top=\"0\", width=\"0\", height=\"0\", title=\"\">\n",
      "<Win32Window left=\"0\", top=\"0\", width=\"0\", height=\"0\", title=\"\">\n",
      "<Win32Window left=\"0\", top=\"0\", width=\"0\", height=\"0\", title=\"\">\n",
      "<Win32Window left=\"0\", top=\"0\", width=\"0\", height=\"0\", title=\"\">\n",
      "<Win32Window left=\"0\", top=\"0\", width=\"0\", height=\"0\", title=\"\">\n",
      "<Win32Window left=\"-32000\", top=\"-32000\", width=\"160\", height=\"28\", title=\"Jupyter Notebook (1)\">\n",
      "<Win32Window left=\"-32000\", top=\"-32000\", width=\"160\", height=\"28\", title=\"region.png - 그림판\">\n",
      "<Win32Window left=\"-32000\", top=\"-32000\", width=\"160\", height=\"28\", title=\"6_imge_recognition.py - rpa_basic - Visual Studio Code\">\n",
      "<Win32Window left=\"-32000\", top=\"-32000\", width=\"160\", height=\"28\", title=\"알캡처 결과창\">\n",
      "<Win32Window left=\"-32000\", top=\"-32000\", width=\"160\", height=\"28\", title=\"python - Pyautogui not running on Mac? (Catalina) - Stack Overflow - Chrome\">\n",
      "<Win32Window left=\"-32000\", top=\"-32000\", width=\"160\", height=\"28\", title=\"Untitled1 - Jupyter Notebook - Chrome\">\n",
      "<Win32Window left=\"-32000\", top=\"-32000\", width=\"160\", height=\"28\", title=\"ch7 - 0221 수업자료 - Google Drive - Chrome\">\n",
      "<Win32Window left=\"0\", top=\"1\", width=\"1272\", height=\"678\", title=\"설정\">\n",
      "<Win32Window left=\"100\", top=\"132\", width=\"1288\", height=\"687\", title=\"설정\">\n",
      "<Win32Window left=\"1920\", top=\"1032\", width=\"1920\", height=\"48\", title=\"\">\n",
      "<Win32Window left=\"0\", top=\"0\", width=\"3840\", height=\"1080\", title=\"Program Manager\">\n"
     ]
    }
   ],
   "source": [
    "for w in p.getAllWindows():\n",
    "    print(w)"
   ]
  },
  {
   "cell_type": "code",
   "execution_count": null,
   "metadata": {},
   "outputs": [
    {
     "name": "stdout",
     "output_type": "stream",
     "text": [
      "<Win32Window left=\"3303\", top=\"478\", width=\"474\", height=\"445\", title=\"제목 없음 - 메모장\">\n",
      "<Win32Window left=\"3298\", top=\"19\", width=\"474\", height=\"445\", title=\"제목 없음 - 메모장\">\n"
     ]
    }
   ],
   "source": [
    "for w in p.getWindowsWithTitle(\"제목 없음\"):\n",
    "    print(w)"
   ]
  },
  {
   "cell_type": "code",
   "execution_count": null,
   "metadata": {},
   "outputs": [
    {
     "name": "stdout",
     "output_type": "stream",
     "text": [
      "<Win32Window left=\"3298\", top=\"19\", width=\"474\", height=\"445\", title=\"제목 없음 - 메모장\">\n"
     ]
    }
   ],
   "source": [
    "w = p.getWindowsWithTitle(\"제목 없음\")[0]\n",
    "\n",
    "print(w)\n",
    "\n",
    "if not w.isActive:\n",
    "    w.activate()"
   ]
  },
  {
   "cell_type": "code",
   "execution_count": null,
   "metadata": {},
   "outputs": [],
   "source": [
    "if not w.isMaximized:\n",
    "    w.maximize()\n",
    "\n",
    "if not w.isMinimized:\n",
    "    w.minimize()"
   ]
  },
  {
   "cell_type": "code",
   "execution_count": null,
   "metadata": {},
   "outputs": [],
   "source": [
    "# 창 원래대로\n",
    "\n",
    "w.restore()"
   ]
  },
  {
   "cell_type": "code",
   "execution_count": null,
   "metadata": {},
   "outputs": [],
   "source": [
    "# 창 종료\n",
    "w.close()"
   ]
  },
  {
   "cell_type": "code",
   "execution_count": null,
   "metadata": {},
   "outputs": [],
   "source": [
    "# 키보드\n",
    "\n",
    "# 메모장 가져오기\n",
    "w = p.getWindowsWithTitle(\"제목 없음\")[0]\n",
    "# 메모장 활성화\n",
    "w.activate()\n",
    "\n",
    "p.write(\"write\")"
   ]
  },
  {
   "cell_type": "code",
   "execution_count": null,
   "metadata": {},
   "outputs": [],
   "source": [
    "p.write(\"pyautogui\", interval=0.25)"
   ]
  },
  {
   "cell_type": "code",
   "execution_count": null,
   "metadata": {},
   "outputs": [],
   "source": [
    "# 메모장 가져오기\n",
    "w = p.getWindowsWithTitle(\"제목 없음\")[0]\n",
    "# 메모장 활성화\n",
    "w.activate()\n",
    "\n",
    "p.write(\"안녕하세요\")"
   ]
  },
  {
   "cell_type": "code",
   "execution_count": null,
   "metadata": {},
   "outputs": [],
   "source": [
    "# pip install pyperclip\n",
    "\n",
    "import pyperclip\n",
    "\n",
    "# 메모장 가져오기\n",
    "w = p.getWindowsWithTitle(\"제목 없음\")[0]\n",
    "# 메모장 활성화\n",
    "w.activate()\n",
    "\n",
    "# 클립보드 복사\n",
    "pyperclip.copy(\"파이썬\")\n",
    "\n",
    "# 클립보드 내용 붙여넣기\n",
    "p.hotkey(\"ctrl\",\"v\")"
   ]
  },
  {
   "cell_type": "code",
   "execution_count": null,
   "metadata": {},
   "outputs": [],
   "source": [
    "def word_write(text):\n",
    "    pyperclip.copy(text)\n",
    "    p.hotkey(\"ctrl\",\"v\")"
   ]
  },
  {
   "cell_type": "code",
   "execution_count": null,
   "metadata": {},
   "outputs": [],
   "source": [
    "word_write('abcdedfdfe')\n",
    "word_write(\"가나다라마마다사\")"
   ]
  },
  {
   "cell_type": "code",
   "execution_count": null,
   "metadata": {},
   "outputs": [],
   "source": [
    "# 메모장 가져오기\n",
    "w = p.getWindowsWithTitle(\"제목 없음\")[0]\n",
    "# 메모장 활성화\n",
    "w.activate()\n",
    "\n",
    "p.keyDown(\"shift\")\n",
    "p.press(\"4\")\n",
    "p.keyUp(\"4\")"
   ]
  },
  {
   "cell_type": "code",
   "execution_count": null,
   "metadata": {},
   "outputs": [],
   "source": [
    "w = p.getWindowsWithTitle(\"제목 없음\")[0]\n",
    "# 메모장 활성화\n",
    "w.activate()\n",
    "\n",
    "p.keyDown(\"shift\")\n",
    "p.press(\"4\")\n",
    "p.keyUp(\"shift\")\n",
    "\n",
    "p.keyDown(\"ctrl\")\n",
    "p.keyDown(\"a\")\n",
    "p.keyUp(\"a\")\n",
    "p.keyUp(\"ctrl\")"
   ]
  },
  {
   "cell_type": "code",
   "execution_count": 2,
   "metadata": {},
   "outputs": [],
   "source": []
  },
  {
   "cell_type": "code",
   "execution_count": null,
   "metadata": {},
   "outputs": [],
   "source": []
  }
 ],
 "metadata": {
  "kernelspec": {
   "display_name": "pythonsource",
   "language": "python",
   "name": "python3"
  },
  "language_info": {
   "codemirror_mode": {
    "name": "ipython",
    "version": 3
   },
   "file_extension": ".py",
   "mimetype": "text/x-python",
   "name": "python",
   "nbconvert_exporter": "python",
   "pygments_lexer": "ipython3",
   "version": "3.11.4"
  },
  "orig_nbformat": 4
 },
 "nbformat": 4,
 "nbformat_minor": 2
}
