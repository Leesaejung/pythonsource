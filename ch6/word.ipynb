{
 "cells": [
  {
   "cell_type": "code",
   "execution_count": 8,
   "metadata": {},
   "outputs": [
    {
     "name": "stdout",
     "output_type": "stream",
     "text": [
      "Question #1\n",
      "blogger\n",
      "\n"
     ]
    },
    {
     "ename": "AttributeError",
     "evalue": "'str' object has no attribute 'str'",
     "output_type": "error",
     "traceback": [
      "\u001b[1;31m---------------------------------------------------------------------------\u001b[0m",
      "\u001b[1;31mAttributeError\u001b[0m                            Traceback (most recent call last)",
      "Cell \u001b[1;32mIn[8], line 42\u001b[0m\n\u001b[0;32m     38\u001b[0m x \u001b[39m=\u001b[39m \u001b[39minput\u001b[39m()\n\u001b[0;32m     40\u001b[0m \u001b[39mprint\u001b[39m()\n\u001b[1;32m---> 42\u001b[0m \u001b[39mif\u001b[39;00m q\u001b[39m.\u001b[39;49mstr(q)\u001b[39m.\u001b[39mstrip() \u001b[39m==\u001b[39m \u001b[39mstr\u001b[39m(x)\u001b[39m.\u001b[39mstrip():\n\u001b[0;32m     43\u001b[0m     \u001b[39mprint\u001b[39m(\u001b[39m\"\u001b[39m\u001b[39mPass!!\u001b[39m\u001b[39m\"\u001b[39m)\n\u001b[0;32m     44\u001b[0m     cor_cnt \u001b[39m+\u001b[39m\u001b[39m=\u001b[39m \u001b[39m1\u001b[39m    \u001b[39m# 정답 개수 추가\u001b[39;00m\n",
      "\u001b[1;31mAttributeError\u001b[0m: 'str' object has no attribute 'str'"
     ]
    }
   ],
   "source": [
    "import random\n",
    "import time\n",
    "import sqlite3\n",
    "import datetime\n",
    "\n",
    "words = []\n",
    "\n",
    "# 시도 횟수, 정답 개수\n",
    "n , cor_cnt = 1, 0\n",
    "\n",
    "# with 구문 word.txt 읽어서 words 리스트에 추가\n",
    "# words 출력\n",
    "# ['policy','number']\n",
    "\n",
    "with open(\"/source/pythonsource/resource/word.txt\") as f:\n",
    "    for w in f:\n",
    "        words.append(w.strip())\n",
    "\n",
    "# print(words)\n",
    "\n",
    "input(\"Redey? Press Enter Key\")\n",
    "start = time.time() # 시작 시간\n",
    "\n",
    "# Question 1\n",
    "# read\n",
    "# 사용자 입력\n",
    "# 문제와 사용자 입력 일치하는지 확인\n",
    "# Pass!! or Wrong!! 출력\n",
    "# n 증가\n",
    "while n <= 5:\n",
    "    # 리스트 요소 임의로 하나 섞기\n",
    "    random.shuffle(words)\n",
    "    # 리스트 요소 중 임의로 하나 추출\n",
    "    q = random.choice(words)\n",
    "    # 추출된 요소 화면에 출력하기\n",
    "    print(\"Question #{}\".format(n))\n",
    "    print(q)\n",
    "    x = input()\n",
    "\n",
    "    print()\n",
    "\n",
    "    if q.str(q).strip() == str(x).strip():\n",
    "        print(\"Pass!!\")\n",
    "        cor_cnt += 1    # 정답 개수 추가\n",
    "    else:\n",
    "        print(\"Wrong!!\")\n",
    "\n",
    "    n += 1 # 문제 개수 추가\n",
    "\n",
    "# 끝난 시간\n",
    "end = time.time()\n",
    "# 걸린 시간\n",
    "et = end - start\n",
    "st = format(et, \".3f\")\n",
    "\n",
    "# 게임시간, 정답 개수 출력 : 게임 시간 : 3초, 정답 개수 : 4\n",
    "print(\"게임 시간 : {}초, 정답개수 : {}\".format(et, cor_cnt))\n",
    "# 정답 개수가 4개 이상이면 합격 메세지 출력, 불합격 출력\n",
    "if cor_cnt >= 4:\n",
    "    print(\"합격\")\n",
    "else:\n",
    "    print(\"불합격\")\n",
    "\n",
    "# db 에 저장\n",
    "# 테이블 records 생성 : 정답 개수(cor_cnt), 기록(record), 날짜(regdate, 현재 날짜와 시간)\n",
    "conn = sqlite3.connect(\"/source/pythonsource/resource/test.db\",isolation_level=None)\n",
    "cursor = conn.cursor()\n",
    "cursor.execute(\"create table if not exists records(cor_cnt integer, record text, regdate text)\")\n",
    "\n",
    "# insert 작업\n",
    "\n",
    "now = datetime.now()\n",
    "nowDateTime = now.strftime(\"%Y-%m-%d %H:%M:%S\")\n",
    "cursor.execute(\n",
    "    \"insert into users(cor_cnt, record, regdate) \"\n",
    "               \"values(?,?,?)\",(cor_cnt, et, nowDateTime)\n",
    ")"
   ]
  },
  {
   "cell_type": "code",
   "execution_count": null,
   "metadata": {},
   "outputs": [],
   "source": []
  }
 ],
 "metadata": {
  "kernelspec": {
   "display_name": "pythonsource",
   "language": "python",
   "name": "python3"
  },
  "language_info": {
   "codemirror_mode": {
    "name": "ipython",
    "version": 3
   },
   "file_extension": ".py",
   "mimetype": "text/x-python",
   "name": "python",
   "nbconvert_exporter": "python",
   "pygments_lexer": "ipython3",
   "version": "3.8.8"
  },
  "orig_nbformat": 4
 },
 "nbformat": 4,
 "nbformat_minor": 2
}
