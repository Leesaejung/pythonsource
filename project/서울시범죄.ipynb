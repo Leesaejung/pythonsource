{
 "cells": [
  {
   "cell_type": "markdown",
   "metadata": {},
   "source": [
    "#### 서울 열린 데이터 광장 \n",
    "- 서울시 자치구 년도별 CCTV 설치 현황(https://data.seoul.go.kr/dataList/OA-2734/F/1/datasetView.do)\n",
    "- 서울시 5대 범죄 발생 현황(https://data.seoul.go.kr/dataList/316/S/2/datasetView.do)\n",
    "- 서울시 주민등록인구(월별_구별) 통계(https://data.seoul.go.kr/dataList/11067/S/2/datasetView.do)"
   ]
  },
  {
   "cell_type": "code",
   "execution_count": 1,
   "metadata": {},
   "outputs": [],
   "source": [
    "import pandas as pd\n",
    "import matplotlib.pyplot as plt\n",
    "import numpy as np\n",
    "import seaborn as sns\n",
    "\n",
    "import warnings\n",
    "warnings.simplefilter(\"ignore\")\n",
    "\n",
    "sns.set_theme()\n",
    "sns.set(rc={\"figure.figsize\":(10,5)})\n",
    "\n",
    "plt.rcParams[\"font.family\"] =\"Malgun Gothic\"\n",
    "plt.rcParams[\"axes.unicode_minus\"] = False"
   ]
  },
  {
   "cell_type": "markdown",
   "metadata": {},
   "source": [
    "##### 1. cctv 설치현황"
   ]
  },
  {
   "cell_type": "code",
   "execution_count": 2,
   "metadata": {},
   "outputs": [
    {
     "data": {
      "text/html": [
       "<div>\n",
       "<style scoped>\n",
       "    .dataframe tbody tr th:only-of-type {\n",
       "        vertical-align: middle;\n",
       "    }\n",
       "\n",
       "    .dataframe tbody tr th {\n",
       "        vertical-align: top;\n",
       "    }\n",
       "\n",
       "    .dataframe thead th {\n",
       "        text-align: right;\n",
       "    }\n",
       "</style>\n",
       "<table border=\"1\" class=\"dataframe\">\n",
       "  <thead>\n",
       "    <tr style=\"text-align: right;\">\n",
       "      <th></th>\n",
       "      <th>구분</th>\n",
       "      <th>총계</th>\n",
       "      <th>2013년 이전\\n설치된 CCTV</th>\n",
       "      <th>2013년</th>\n",
       "      <th>2014년</th>\n",
       "      <th>2015년</th>\n",
       "      <th>2016년</th>\n",
       "      <th>2017년</th>\n",
       "      <th>2018년</th>\n",
       "      <th>2019년</th>\n",
       "      <th>...</th>\n",
       "      <th>Unnamed: 16374</th>\n",
       "      <th>Unnamed: 16375</th>\n",
       "      <th>Unnamed: 16376</th>\n",
       "      <th>Unnamed: 16377</th>\n",
       "      <th>Unnamed: 16378</th>\n",
       "      <th>Unnamed: 16379</th>\n",
       "      <th>Unnamed: 16380</th>\n",
       "      <th>Unnamed: 16381</th>\n",
       "      <th>Unnamed: 16382</th>\n",
       "      <th>Unnamed: 16383</th>\n",
       "    </tr>\n",
       "  </thead>\n",
       "  <tbody>\n",
       "    <tr>\n",
       "      <th>0</th>\n",
       "      <td>종로구</td>\n",
       "      <td>1980</td>\n",
       "      <td>36</td>\n",
       "      <td>540</td>\n",
       "      <td>107</td>\n",
       "      <td>161</td>\n",
       "      <td>131</td>\n",
       "      <td>158</td>\n",
       "      <td>152</td>\n",
       "      <td>69</td>\n",
       "      <td>...</td>\n",
       "      <td>NaN</td>\n",
       "      <td>NaN</td>\n",
       "      <td>NaN</td>\n",
       "      <td>NaN</td>\n",
       "      <td>NaN</td>\n",
       "      <td>NaN</td>\n",
       "      <td>NaN</td>\n",
       "      <td>NaN</td>\n",
       "      <td>NaN</td>\n",
       "      <td>NaN</td>\n",
       "    </tr>\n",
       "    <tr>\n",
       "      <th>1</th>\n",
       "      <td>중 구</td>\n",
       "      <td>2584</td>\n",
       "      <td>130</td>\n",
       "      <td>87</td>\n",
       "      <td>77</td>\n",
       "      <td>236</td>\n",
       "      <td>240</td>\n",
       "      <td>372</td>\n",
       "      <td>386</td>\n",
       "      <td>155</td>\n",
       "      <td>...</td>\n",
       "      <td>NaN</td>\n",
       "      <td>NaN</td>\n",
       "      <td>NaN</td>\n",
       "      <td>NaN</td>\n",
       "      <td>NaN</td>\n",
       "      <td>NaN</td>\n",
       "      <td>NaN</td>\n",
       "      <td>NaN</td>\n",
       "      <td>NaN</td>\n",
       "      <td>NaN</td>\n",
       "    </tr>\n",
       "    <tr>\n",
       "      <th>2</th>\n",
       "      <td>용산구</td>\n",
       "      <td>2847</td>\n",
       "      <td>44</td>\n",
       "      <td>50</td>\n",
       "      <td>68</td>\n",
       "      <td>83</td>\n",
       "      <td>295</td>\n",
       "      <td>491</td>\n",
       "      <td>115</td>\n",
       "      <td>322</td>\n",
       "      <td>...</td>\n",
       "      <td>NaN</td>\n",
       "      <td>NaN</td>\n",
       "      <td>NaN</td>\n",
       "      <td>NaN</td>\n",
       "      <td>NaN</td>\n",
       "      <td>NaN</td>\n",
       "      <td>NaN</td>\n",
       "      <td>NaN</td>\n",
       "      <td>NaN</td>\n",
       "      <td>NaN</td>\n",
       "    </tr>\n",
       "  </tbody>\n",
       "</table>\n",
       "<p>3 rows × 16384 columns</p>\n",
       "</div>"
      ],
      "text/plain": [
       "    구분    총계  2013년 이전\\n설치된 CCTV  2013년  2014년  2015년  2016년  2017년  2018년  \\\n",
       "0  종로구  1980                  36    540    107    161    131    158    152   \n",
       "1  중 구  2584                 130     87     77    236    240    372    386   \n",
       "2  용산구  2847                  44     50     68     83    295    491    115   \n",
       "\n",
       "   2019년  ...  Unnamed: 16374  Unnamed: 16375  Unnamed: 16376  Unnamed: 16377  \\\n",
       "0     69  ...             NaN             NaN             NaN             NaN   \n",
       "1    155  ...             NaN             NaN             NaN             NaN   \n",
       "2    322  ...             NaN             NaN             NaN             NaN   \n",
       "\n",
       "   Unnamed: 16378  Unnamed: 16379  Unnamed: 16380  Unnamed: 16381  \\\n",
       "0             NaN             NaN             NaN             NaN   \n",
       "1             NaN             NaN             NaN             NaN   \n",
       "2             NaN             NaN             NaN             NaN   \n",
       "\n",
       "   Unnamed: 16382  Unnamed: 16383  \n",
       "0             NaN             NaN  \n",
       "1             NaN             NaN  \n",
       "2             NaN             NaN  \n",
       "\n",
       "[3 rows x 16384 columns]"
      ]
     },
     "execution_count": 2,
     "metadata": {},
     "output_type": "execute_result"
    }
   ],
   "source": [
    "# cctv 데이터 로드\n",
    "\n",
    "cctv_df = pd.read_csv(\"./data/CCTV 설치 현황_221231기준.csv\",encoding=\"cp949\",thousands=\",\",skiprows=[1])\n",
    "cctv_df.head(3)"
   ]
  },
  {
   "cell_type": "code",
   "execution_count": 3,
   "metadata": {},
   "outputs": [
    {
     "data": {
      "text/plain": [
       "Index(['구분', '총계', '2013년 이전\\n설치된 CCTV', '2013년', '2014년', '2015년', '2016년',\n",
       "       '2017년', '2018년', '2019년',\n",
       "       ...\n",
       "       'Unnamed: 16374', 'Unnamed: 16375', 'Unnamed: 16376', 'Unnamed: 16377',\n",
       "       'Unnamed: 16378', 'Unnamed: 16379', 'Unnamed: 16380', 'Unnamed: 16381',\n",
       "       'Unnamed: 16382', 'Unnamed: 16383'],\n",
       "      dtype='object', length=16384)"
      ]
     },
     "execution_count": 3,
     "metadata": {},
     "output_type": "execute_result"
    }
   ],
   "source": [
    "cctv_df.columns"
   ]
  },
  {
   "cell_type": "code",
   "execution_count": 4,
   "metadata": {},
   "outputs": [],
   "source": [
    "# 데이터 전처리\n",
    "# 필요한 컬럼만 복사해서 데이터프레임 생성\n",
    "\n",
    "cctv_df = cctv_df[['구분', '총계', '2013년 이전\\n설치된 CCTV', '2013년', '2014년', '2015년', '2016년','2017년', '2018년', '2019년','2020년','2021년','2022년']]"
   ]
  },
  {
   "cell_type": "code",
   "execution_count": 5,
   "metadata": {},
   "outputs": [
    {
     "data": {
      "text/html": [
       "<div>\n",
       "<style scoped>\n",
       "    .dataframe tbody tr th:only-of-type {\n",
       "        vertical-align: middle;\n",
       "    }\n",
       "\n",
       "    .dataframe tbody tr th {\n",
       "        vertical-align: top;\n",
       "    }\n",
       "\n",
       "    .dataframe thead th {\n",
       "        text-align: right;\n",
       "    }\n",
       "</style>\n",
       "<table border=\"1\" class=\"dataframe\">\n",
       "  <thead>\n",
       "    <tr style=\"text-align: right;\">\n",
       "      <th></th>\n",
       "      <th>구분</th>\n",
       "      <th>총계</th>\n",
       "      <th>2013년 이전\\n설치된 CCTV</th>\n",
       "      <th>2013년</th>\n",
       "      <th>2014년</th>\n",
       "      <th>2015년</th>\n",
       "      <th>2016년</th>\n",
       "      <th>2017년</th>\n",
       "      <th>2018년</th>\n",
       "      <th>2019년</th>\n",
       "      <th>2020년</th>\n",
       "      <th>2021년</th>\n",
       "      <th>2022년</th>\n",
       "    </tr>\n",
       "  </thead>\n",
       "  <tbody>\n",
       "    <tr>\n",
       "      <th>0</th>\n",
       "      <td>종로구</td>\n",
       "      <td>1980</td>\n",
       "      <td>36</td>\n",
       "      <td>540</td>\n",
       "      <td>107</td>\n",
       "      <td>161</td>\n",
       "      <td>131</td>\n",
       "      <td>158</td>\n",
       "      <td>152</td>\n",
       "      <td>69</td>\n",
       "      <td>250</td>\n",
       "      <td>85</td>\n",
       "      <td>291</td>\n",
       "    </tr>\n",
       "  </tbody>\n",
       "</table>\n",
       "</div>"
      ],
      "text/plain": [
       "    구분    총계  2013년 이전\\n설치된 CCTV  2013년  2014년  2015년  2016년  2017년  2018년  \\\n",
       "0  종로구  1980                  36    540    107    161    131    158    152   \n",
       "\n",
       "   2019년  2020년  2021년  2022년  \n",
       "0     69    250     85    291  "
      ]
     },
     "execution_count": 5,
     "metadata": {},
     "output_type": "execute_result"
    }
   ],
   "source": [
    "cctv_df.head(1)"
   ]
  },
  {
   "cell_type": "code",
   "execution_count": 6,
   "metadata": {},
   "outputs": [],
   "source": [
    "# 컬럼명 변경\n",
    "# 구분 => 구 별, 총계 => cctv 총계, 2013년 이전\\n설치된 CCTV => 2013년 이전\n",
    "cctv_df.rename(columns={\"구분\":\"구 별\", \"총계\":\"cctv 총계\",\"2013년 이전\\n설치된 CCTV\":\"2013년 이전\"},inplace=True)"
   ]
  },
  {
   "cell_type": "code",
   "execution_count": 7,
   "metadata": {},
   "outputs": [],
   "source": [
    "# 2020년 이전 컬럼 생성 = 2013년 이전 + ~~~~ + 2020년\n",
    "# 방법 1\n",
    "cctv_df[\"2020년 이전\"] = cctv_df[\"2013년 이전\"] + cctv_df[\"2013년\"] + cctv_df[\"2014년\"] + cctv_df[\"2015년\"] + cctv_df[\"2016년\"] + cctv_df[\"2017년\"] + cctv_df[\"2018년\"] + cctv_df[\"2019년\"] + cctv_df[\"2020년\"]"
   ]
  },
  {
   "cell_type": "code",
   "execution_count": 8,
   "metadata": {},
   "outputs": [
    {
     "data": {
      "text/html": [
       "<div>\n",
       "<style scoped>\n",
       "    .dataframe tbody tr th:only-of-type {\n",
       "        vertical-align: middle;\n",
       "    }\n",
       "\n",
       "    .dataframe tbody tr th {\n",
       "        vertical-align: top;\n",
       "    }\n",
       "\n",
       "    .dataframe thead th {\n",
       "        text-align: right;\n",
       "    }\n",
       "</style>\n",
       "<table border=\"1\" class=\"dataframe\">\n",
       "  <thead>\n",
       "    <tr style=\"text-align: right;\">\n",
       "      <th></th>\n",
       "      <th>구 별</th>\n",
       "      <th>cctv 총계</th>\n",
       "      <th>2013년 이전</th>\n",
       "      <th>2013년</th>\n",
       "      <th>2014년</th>\n",
       "      <th>2015년</th>\n",
       "      <th>2016년</th>\n",
       "      <th>2017년</th>\n",
       "      <th>2018년</th>\n",
       "      <th>2019년</th>\n",
       "      <th>2020년</th>\n",
       "      <th>2021년</th>\n",
       "      <th>2022년</th>\n",
       "      <th>2020년 이전</th>\n",
       "    </tr>\n",
       "  </thead>\n",
       "  <tbody>\n",
       "    <tr>\n",
       "      <th>0</th>\n",
       "      <td>종로구</td>\n",
       "      <td>1980</td>\n",
       "      <td>36</td>\n",
       "      <td>540</td>\n",
       "      <td>107</td>\n",
       "      <td>161</td>\n",
       "      <td>131</td>\n",
       "      <td>158</td>\n",
       "      <td>152</td>\n",
       "      <td>69</td>\n",
       "      <td>250</td>\n",
       "      <td>85</td>\n",
       "      <td>291</td>\n",
       "      <td>1604</td>\n",
       "    </tr>\n",
       "  </tbody>\n",
       "</table>\n",
       "</div>"
      ],
      "text/plain": [
       "   구 별  cctv 총계  2013년 이전  2013년  2014년  2015년  2016년  2017년  2018년  2019년  \\\n",
       "0  종로구     1980        36    540    107    161    131    158    152     69   \n",
       "\n",
       "   2020년  2021년  2022년  2020년 이전  \n",
       "0    250     85    291      1604  "
      ]
     },
     "execution_count": 8,
     "metadata": {},
     "output_type": "execute_result"
    }
   ],
   "source": [
    "cctv_df.head(1)"
   ]
  },
  {
   "cell_type": "code",
   "execution_count": 9,
   "metadata": {},
   "outputs": [],
   "source": [
    "cctv_df.drop(columns=['2020년 이전'],inplace=True)"
   ]
  },
  {
   "cell_type": "code",
   "execution_count": 10,
   "metadata": {},
   "outputs": [],
   "source": [
    "# 2020년 이전 컬럼 생성 = 2013년 이전 + ~~~~ + 2020년\n",
    "# 방법 2 : difference() \n",
    "\n",
    "# cctv_df.columns.difference(['구 별', 'cctv 총계','2021년', '2022년'])\n",
    "\n",
    "cctv_df[\"2020년 이전\"] = cctv_df[cctv_df.columns.difference(['구 별', 'cctv 총계','2021년', '2022년'])].sum(axis=1)"
   ]
  },
  {
   "cell_type": "code",
   "execution_count": 11,
   "metadata": {},
   "outputs": [
    {
     "data": {
      "text/html": [
       "<div>\n",
       "<style scoped>\n",
       "    .dataframe tbody tr th:only-of-type {\n",
       "        vertical-align: middle;\n",
       "    }\n",
       "\n",
       "    .dataframe tbody tr th {\n",
       "        vertical-align: top;\n",
       "    }\n",
       "\n",
       "    .dataframe thead th {\n",
       "        text-align: right;\n",
       "    }\n",
       "</style>\n",
       "<table border=\"1\" class=\"dataframe\">\n",
       "  <thead>\n",
       "    <tr style=\"text-align: right;\">\n",
       "      <th></th>\n",
       "      <th>구 별</th>\n",
       "      <th>cctv 총계</th>\n",
       "      <th>2013년 이전</th>\n",
       "      <th>2013년</th>\n",
       "      <th>2014년</th>\n",
       "      <th>2015년</th>\n",
       "      <th>2016년</th>\n",
       "      <th>2017년</th>\n",
       "      <th>2018년</th>\n",
       "      <th>2019년</th>\n",
       "      <th>2020년</th>\n",
       "      <th>2021년</th>\n",
       "      <th>2022년</th>\n",
       "      <th>2020년 이전</th>\n",
       "    </tr>\n",
       "  </thead>\n",
       "  <tbody>\n",
       "    <tr>\n",
       "      <th>0</th>\n",
       "      <td>종로구</td>\n",
       "      <td>1980</td>\n",
       "      <td>36</td>\n",
       "      <td>540</td>\n",
       "      <td>107</td>\n",
       "      <td>161</td>\n",
       "      <td>131</td>\n",
       "      <td>158</td>\n",
       "      <td>152</td>\n",
       "      <td>69</td>\n",
       "      <td>250</td>\n",
       "      <td>85</td>\n",
       "      <td>291</td>\n",
       "      <td>1604</td>\n",
       "    </tr>\n",
       "  </tbody>\n",
       "</table>\n",
       "</div>"
      ],
      "text/plain": [
       "   구 별  cctv 총계  2013년 이전  2013년  2014년  2015년  2016년  2017년  2018년  2019년  \\\n",
       "0  종로구     1980        36    540    107    161    131    158    152     69   \n",
       "\n",
       "   2020년  2021년  2022년  2020년 이전  \n",
       "0    250     85    291      1604  "
      ]
     },
     "execution_count": 11,
     "metadata": {},
     "output_type": "execute_result"
    }
   ],
   "source": [
    "cctv_df.head(1)"
   ]
  },
  {
   "cell_type": "code",
   "execution_count": 12,
   "metadata": {},
   "outputs": [
    {
     "data": {
      "text/plain": [
       "Index(['구 별', 'cctv 총계', '2013년 이전', '2013년', '2014년', '2015년', '2016년',\n",
       "       '2017년', '2018년', '2019년', '2020년', '2021년', '2022년', '2020년 이전'],\n",
       "      dtype='object')"
      ]
     },
     "execution_count": 12,
     "metadata": {},
     "output_type": "execute_result"
    }
   ],
   "source": [
    "cctv_df.columns"
   ]
  },
  {
   "cell_type": "code",
   "execution_count": 13,
   "metadata": {},
   "outputs": [],
   "source": [
    "cctv_df.drop(columns=['2013년 이전','2013년','2014년','2015년','2016년','2017년','2018년','2019년','2020년'],inplace=True)"
   ]
  },
  {
   "cell_type": "code",
   "execution_count": 14,
   "metadata": {},
   "outputs": [
    {
     "data": {
      "text/html": [
       "<div>\n",
       "<style scoped>\n",
       "    .dataframe tbody tr th:only-of-type {\n",
       "        vertical-align: middle;\n",
       "    }\n",
       "\n",
       "    .dataframe tbody tr th {\n",
       "        vertical-align: top;\n",
       "    }\n",
       "\n",
       "    .dataframe thead th {\n",
       "        text-align: right;\n",
       "    }\n",
       "</style>\n",
       "<table border=\"1\" class=\"dataframe\">\n",
       "  <thead>\n",
       "    <tr style=\"text-align: right;\">\n",
       "      <th></th>\n",
       "      <th>구 별</th>\n",
       "      <th>cctv 총계</th>\n",
       "      <th>2021년</th>\n",
       "      <th>2022년</th>\n",
       "      <th>2020년 이전</th>\n",
       "    </tr>\n",
       "  </thead>\n",
       "  <tbody>\n",
       "    <tr>\n",
       "      <th>0</th>\n",
       "      <td>종로구</td>\n",
       "      <td>1980</td>\n",
       "      <td>85</td>\n",
       "      <td>291</td>\n",
       "      <td>1604</td>\n",
       "    </tr>\n",
       "    <tr>\n",
       "      <th>1</th>\n",
       "      <td>중 구</td>\n",
       "      <td>2584</td>\n",
       "      <td>403</td>\n",
       "      <td>137</td>\n",
       "      <td>2044</td>\n",
       "    </tr>\n",
       "    <tr>\n",
       "      <th>2</th>\n",
       "      <td>용산구</td>\n",
       "      <td>2847</td>\n",
       "      <td>422</td>\n",
       "      <td>334</td>\n",
       "      <td>2091</td>\n",
       "    </tr>\n",
       "  </tbody>\n",
       "</table>\n",
       "</div>"
      ],
      "text/plain": [
       "   구 별  cctv 총계  2021년  2022년  2020년 이전\n",
       "0  종로구     1980     85    291      1604\n",
       "1  중 구     2584    403    137      2044\n",
       "2  용산구     2847    422    334      2091"
      ]
     },
     "execution_count": 14,
     "metadata": {},
     "output_type": "execute_result"
    }
   ],
   "source": [
    "cctv_df.head(3)"
   ]
  },
  {
   "cell_type": "code",
   "execution_count": 15,
   "metadata": {},
   "outputs": [],
   "source": [
    "# 중 구 ==> 중구\n",
    "cctv_df.iloc[1,0] = \"중구\""
   ]
  },
  {
   "cell_type": "code",
   "execution_count": 16,
   "metadata": {},
   "outputs": [
    {
     "data": {
      "text/html": [
       "<div>\n",
       "<style scoped>\n",
       "    .dataframe tbody tr th:only-of-type {\n",
       "        vertical-align: middle;\n",
       "    }\n",
       "\n",
       "    .dataframe tbody tr th {\n",
       "        vertical-align: top;\n",
       "    }\n",
       "\n",
       "    .dataframe thead th {\n",
       "        text-align: right;\n",
       "    }\n",
       "</style>\n",
       "<table border=\"1\" class=\"dataframe\">\n",
       "  <thead>\n",
       "    <tr style=\"text-align: right;\">\n",
       "      <th></th>\n",
       "      <th>구 별</th>\n",
       "      <th>cctv 총계</th>\n",
       "      <th>2021년</th>\n",
       "      <th>2022년</th>\n",
       "      <th>2020년 이전</th>\n",
       "    </tr>\n",
       "  </thead>\n",
       "  <tbody>\n",
       "    <tr>\n",
       "      <th>0</th>\n",
       "      <td>종로구</td>\n",
       "      <td>1980</td>\n",
       "      <td>85</td>\n",
       "      <td>291</td>\n",
       "      <td>1604</td>\n",
       "    </tr>\n",
       "  </tbody>\n",
       "</table>\n",
       "</div>"
      ],
      "text/plain": [
       "   구 별  cctv 총계  2021년  2022년  2020년 이전\n",
       "0  종로구     1980     85    291      1604"
      ]
     },
     "execution_count": 16,
     "metadata": {},
     "output_type": "execute_result"
    }
   ],
   "source": [
    "# 데이터 분석\n",
    "# 1. 구별 cctv가 가장 적게 설치되어 있는 구 알아보기\n",
    "\n",
    "cctv_df[min(cctv_df['cctv 총계']) == cctv_df['cctv 총계']]\n"
   ]
  },
  {
   "cell_type": "code",
   "execution_count": 17,
   "metadata": {},
   "outputs": [
    {
     "data": {
      "text/html": [
       "<div>\n",
       "<style scoped>\n",
       "    .dataframe tbody tr th:only-of-type {\n",
       "        vertical-align: middle;\n",
       "    }\n",
       "\n",
       "    .dataframe tbody tr th {\n",
       "        vertical-align: top;\n",
       "    }\n",
       "\n",
       "    .dataframe thead th {\n",
       "        text-align: right;\n",
       "    }\n",
       "</style>\n",
       "<table border=\"1\" class=\"dataframe\">\n",
       "  <thead>\n",
       "    <tr style=\"text-align: right;\">\n",
       "      <th></th>\n",
       "      <th>구 별</th>\n",
       "      <th>cctv 총계</th>\n",
       "      <th>2021년</th>\n",
       "      <th>2022년</th>\n",
       "      <th>2020년 이전</th>\n",
       "    </tr>\n",
       "  </thead>\n",
       "  <tbody>\n",
       "    <tr>\n",
       "      <th>22</th>\n",
       "      <td>강남구</td>\n",
       "      <td>7243</td>\n",
       "      <td>514</td>\n",
       "      <td>468</td>\n",
       "      <td>6261</td>\n",
       "    </tr>\n",
       "  </tbody>\n",
       "</table>\n",
       "</div>"
      ],
      "text/plain": [
       "    구 별  cctv 총계  2021년  2022년  2020년 이전\n",
       "22  강남구     7243    514    468      6261"
      ]
     },
     "execution_count": 17,
     "metadata": {},
     "output_type": "execute_result"
    }
   ],
   "source": [
    "# 2. 구별 cctv가 가장 많이 설치되어 있는 구 알아보기\n",
    "cctv_df[max(cctv_df['cctv 총계']) == cctv_df['cctv 총계']]"
   ]
  },
  {
   "cell_type": "markdown",
   "metadata": {},
   "source": [
    "##### 2. 서울시 거주 인구 데이터"
   ]
  },
  {
   "cell_type": "code",
   "execution_count": 18,
   "metadata": {},
   "outputs": [
    {
     "data": {
      "text/html": [
       "<div>\n",
       "<style scoped>\n",
       "    .dataframe tbody tr th:only-of-type {\n",
       "        vertical-align: middle;\n",
       "    }\n",
       "\n",
       "    .dataframe tbody tr th {\n",
       "        vertical-align: top;\n",
       "    }\n",
       "\n",
       "    .dataframe thead th {\n",
       "        text-align: right;\n",
       "    }\n",
       "</style>\n",
       "<table border=\"1\" class=\"dataframe\">\n",
       "  <thead>\n",
       "    <tr style=\"text-align: right;\">\n",
       "      <th></th>\n",
       "      <th>동별(2)</th>\n",
       "      <th>소계.1</th>\n",
       "      <th>소계.2</th>\n",
       "      <th>소계.3</th>\n",
       "    </tr>\n",
       "  </thead>\n",
       "  <tbody>\n",
       "    <tr>\n",
       "      <th>0</th>\n",
       "      <td>종로구</td>\n",
       "      <td>152211</td>\n",
       "      <td>141379</td>\n",
       "      <td>10832</td>\n",
       "    </tr>\n",
       "    <tr>\n",
       "      <th>1</th>\n",
       "      <td>중구</td>\n",
       "      <td>130785</td>\n",
       "      <td>120437</td>\n",
       "      <td>10348</td>\n",
       "    </tr>\n",
       "    <tr>\n",
       "      <th>2</th>\n",
       "      <td>용산구</td>\n",
       "      <td>233284</td>\n",
       "      <td>218650</td>\n",
       "      <td>14634</td>\n",
       "    </tr>\n",
       "    <tr>\n",
       "      <th>3</th>\n",
       "      <td>성동구</td>\n",
       "      <td>288234</td>\n",
       "      <td>281000</td>\n",
       "      <td>7234</td>\n",
       "    </tr>\n",
       "    <tr>\n",
       "      <th>4</th>\n",
       "      <td>광진구</td>\n",
       "      <td>351252</td>\n",
       "      <td>337416</td>\n",
       "      <td>13836</td>\n",
       "    </tr>\n",
       "  </tbody>\n",
       "</table>\n",
       "</div>"
      ],
      "text/plain": [
       "  동별(2)    소계.1    소계.2   소계.3\n",
       "0   종로구  152211  141379  10832\n",
       "1    중구  130785  120437  10348\n",
       "2   용산구  233284  218650  14634\n",
       "3   성동구  288234  281000   7234\n",
       "4   광진구  351252  337416  13836"
      ]
     },
     "execution_count": 18,
     "metadata": {},
     "output_type": "execute_result"
    }
   ],
   "source": [
    "seoul_df = pd.read_excel(\"./data/주민등록인구(월별)_202212.xlsx\",skiprows=[0,1,3],usecols='B,D,G,J')\n",
    "seoul_df.head()"
   ]
  },
  {
   "cell_type": "code",
   "execution_count": 19,
   "metadata": {},
   "outputs": [],
   "source": [
    "# 컬럼명 변경 \n",
    "# 구 별, 총인구, 한국인, 외국인\n",
    "seoul_df.columns=['구 별', '총인구', '한국인', '외국인']"
   ]
  },
  {
   "cell_type": "code",
   "execution_count": 20,
   "metadata": {},
   "outputs": [
    {
     "data": {
      "text/html": [
       "<div>\n",
       "<style scoped>\n",
       "    .dataframe tbody tr th:only-of-type {\n",
       "        vertical-align: middle;\n",
       "    }\n",
       "\n",
       "    .dataframe tbody tr th {\n",
       "        vertical-align: top;\n",
       "    }\n",
       "\n",
       "    .dataframe thead th {\n",
       "        text-align: right;\n",
       "    }\n",
       "</style>\n",
       "<table border=\"1\" class=\"dataframe\">\n",
       "  <thead>\n",
       "    <tr style=\"text-align: right;\">\n",
       "      <th></th>\n",
       "      <th>구 별</th>\n",
       "      <th>총인구</th>\n",
       "      <th>한국인</th>\n",
       "      <th>외국인</th>\n",
       "    </tr>\n",
       "  </thead>\n",
       "  <tbody>\n",
       "    <tr>\n",
       "      <th>16</th>\n",
       "      <td>구로구</td>\n",
       "      <td>418418</td>\n",
       "      <td>395315</td>\n",
       "      <td>23103</td>\n",
       "    </tr>\n",
       "    <tr>\n",
       "      <th>18</th>\n",
       "      <td>영등포구</td>\n",
       "      <td>398085</td>\n",
       "      <td>375675</td>\n",
       "      <td>22410</td>\n",
       "    </tr>\n",
       "    <tr>\n",
       "      <th>5</th>\n",
       "      <td>동대문구</td>\n",
       "      <td>353601</td>\n",
       "      <td>336644</td>\n",
       "      <td>16957</td>\n",
       "    </tr>\n",
       "    <tr>\n",
       "      <th>2</th>\n",
       "      <td>용산구</td>\n",
       "      <td>233284</td>\n",
       "      <td>218650</td>\n",
       "      <td>14634</td>\n",
       "    </tr>\n",
       "    <tr>\n",
       "      <th>20</th>\n",
       "      <td>관악구</td>\n",
       "      <td>501226</td>\n",
       "      <td>486752</td>\n",
       "      <td>14474</td>\n",
       "    </tr>\n",
       "    <tr>\n",
       "      <th>4</th>\n",
       "      <td>광진구</td>\n",
       "      <td>351252</td>\n",
       "      <td>337416</td>\n",
       "      <td>13836</td>\n",
       "    </tr>\n",
       "    <tr>\n",
       "      <th>12</th>\n",
       "      <td>서대문구</td>\n",
       "      <td>319554</td>\n",
       "      <td>306337</td>\n",
       "      <td>13217</td>\n",
       "    </tr>\n",
       "    <tr>\n",
       "      <th>17</th>\n",
       "      <td>금천구</td>\n",
       "      <td>242818</td>\n",
       "      <td>229642</td>\n",
       "      <td>13176</td>\n",
       "    </tr>\n",
       "    <tr>\n",
       "      <th>7</th>\n",
       "      <td>성북구</td>\n",
       "      <td>441984</td>\n",
       "      <td>430397</td>\n",
       "      <td>11587</td>\n",
       "    </tr>\n",
       "    <tr>\n",
       "      <th>13</th>\n",
       "      <td>마포구</td>\n",
       "      <td>375585</td>\n",
       "      <td>364638</td>\n",
       "      <td>10947</td>\n",
       "    </tr>\n",
       "    <tr>\n",
       "      <th>0</th>\n",
       "      <td>종로구</td>\n",
       "      <td>152211</td>\n",
       "      <td>141379</td>\n",
       "      <td>10832</td>\n",
       "    </tr>\n",
       "    <tr>\n",
       "      <th>1</th>\n",
       "      <td>중구</td>\n",
       "      <td>130785</td>\n",
       "      <td>120437</td>\n",
       "      <td>10348</td>\n",
       "    </tr>\n",
       "    <tr>\n",
       "      <th>19</th>\n",
       "      <td>동작구</td>\n",
       "      <td>390432</td>\n",
       "      <td>380596</td>\n",
       "      <td>9836</td>\n",
       "    </tr>\n",
       "    <tr>\n",
       "      <th>3</th>\n",
       "      <td>성동구</td>\n",
       "      <td>288234</td>\n",
       "      <td>281000</td>\n",
       "      <td>7234</td>\n",
       "    </tr>\n",
       "    <tr>\n",
       "      <th>23</th>\n",
       "      <td>송파구</td>\n",
       "      <td>664514</td>\n",
       "      <td>658801</td>\n",
       "      <td>5713</td>\n",
       "    </tr>\n",
       "    <tr>\n",
       "      <th>15</th>\n",
       "      <td>강서구</td>\n",
       "      <td>574638</td>\n",
       "      <td>569166</td>\n",
       "      <td>5472</td>\n",
       "    </tr>\n",
       "    <tr>\n",
       "      <th>22</th>\n",
       "      <td>강남구</td>\n",
       "      <td>534103</td>\n",
       "      <td>529102</td>\n",
       "      <td>5001</td>\n",
       "    </tr>\n",
       "    <tr>\n",
       "      <th>6</th>\n",
       "      <td>중랑구</td>\n",
       "      <td>390140</td>\n",
       "      <td>385318</td>\n",
       "      <td>4822</td>\n",
       "    </tr>\n",
       "    <tr>\n",
       "      <th>10</th>\n",
       "      <td>노원구</td>\n",
       "      <td>508014</td>\n",
       "      <td>503734</td>\n",
       "      <td>4280</td>\n",
       "    </tr>\n",
       "    <tr>\n",
       "      <th>21</th>\n",
       "      <td>서초구</td>\n",
       "      <td>408451</td>\n",
       "      <td>404325</td>\n",
       "      <td>4126</td>\n",
       "    </tr>\n",
       "    <tr>\n",
       "      <th>8</th>\n",
       "      <td>강북구</td>\n",
       "      <td>297702</td>\n",
       "      <td>293660</td>\n",
       "      <td>4042</td>\n",
       "    </tr>\n",
       "    <tr>\n",
       "      <th>24</th>\n",
       "      <td>강동구</td>\n",
       "      <td>464037</td>\n",
       "      <td>460067</td>\n",
       "      <td>3970</td>\n",
       "    </tr>\n",
       "    <tr>\n",
       "      <th>11</th>\n",
       "      <td>은평구</td>\n",
       "      <td>470602</td>\n",
       "      <td>466746</td>\n",
       "      <td>3856</td>\n",
       "    </tr>\n",
       "    <tr>\n",
       "      <th>14</th>\n",
       "      <td>양천구</td>\n",
       "      <td>444010</td>\n",
       "      <td>440881</td>\n",
       "      <td>3129</td>\n",
       "    </tr>\n",
       "    <tr>\n",
       "      <th>9</th>\n",
       "      <td>도봉구</td>\n",
       "      <td>313989</td>\n",
       "      <td>311694</td>\n",
       "      <td>2295</td>\n",
       "    </tr>\n",
       "  </tbody>\n",
       "</table>\n",
       "</div>"
      ],
      "text/plain": [
       "     구 별     총인구     한국인    외국인\n",
       "16   구로구  418418  395315  23103\n",
       "18  영등포구  398085  375675  22410\n",
       "5   동대문구  353601  336644  16957\n",
       "2    용산구  233284  218650  14634\n",
       "20   관악구  501226  486752  14474\n",
       "4    광진구  351252  337416  13836\n",
       "12  서대문구  319554  306337  13217\n",
       "17   금천구  242818  229642  13176\n",
       "7    성북구  441984  430397  11587\n",
       "13   마포구  375585  364638  10947\n",
       "0    종로구  152211  141379  10832\n",
       "1     중구  130785  120437  10348\n",
       "19   동작구  390432  380596   9836\n",
       "3    성동구  288234  281000   7234\n",
       "23   송파구  664514  658801   5713\n",
       "15   강서구  574638  569166   5472\n",
       "22   강남구  534103  529102   5001\n",
       "6    중랑구  390140  385318   4822\n",
       "10   노원구  508014  503734   4280\n",
       "21   서초구  408451  404325   4126\n",
       "8    강북구  297702  293660   4042\n",
       "24   강동구  464037  460067   3970\n",
       "11   은평구  470602  466746   3856\n",
       "14   양천구  444010  440881   3129\n",
       "9    도봉구  313989  311694   2295"
      ]
     },
     "execution_count": 20,
     "metadata": {},
     "output_type": "execute_result"
    }
   ],
   "source": [
    "# 외국인 컬럼 기준으로 내림차순\n",
    "seoul_df.sort_values(\"외국인\",ascending=False)"
   ]
  },
  {
   "cell_type": "code",
   "execution_count": 21,
   "metadata": {},
   "outputs": [],
   "source": [
    "# cctv 설치 대수 대비 범죄율 파악\n",
    "# cctv_df 와 seoul_df 합치기\n",
    "merge_df = pd.merge(seoul_df,cctv_df,on=\"구 별\")"
   ]
  },
  {
   "cell_type": "code",
   "execution_count": 22,
   "metadata": {},
   "outputs": [],
   "source": [
    "# merge_df index 설정 : 구 별\n",
    "\n",
    "merge_df.set_index(\"구 별\",inplace=True)"
   ]
  },
  {
   "cell_type": "code",
   "execution_count": 23,
   "metadata": {},
   "outputs": [
    {
     "data": {
      "text/html": [
       "<div>\n",
       "<style scoped>\n",
       "    .dataframe tbody tr th:only-of-type {\n",
       "        vertical-align: middle;\n",
       "    }\n",
       "\n",
       "    .dataframe tbody tr th {\n",
       "        vertical-align: top;\n",
       "    }\n",
       "\n",
       "    .dataframe thead th {\n",
       "        text-align: right;\n",
       "    }\n",
       "</style>\n",
       "<table border=\"1\" class=\"dataframe\">\n",
       "  <thead>\n",
       "    <tr style=\"text-align: right;\">\n",
       "      <th></th>\n",
       "      <th>총인구</th>\n",
       "      <th>한국인</th>\n",
       "      <th>외국인</th>\n",
       "      <th>cctv 총계</th>\n",
       "      <th>2021년</th>\n",
       "      <th>2022년</th>\n",
       "      <th>2020년 이전</th>\n",
       "    </tr>\n",
       "    <tr>\n",
       "      <th>구 별</th>\n",
       "      <th></th>\n",
       "      <th></th>\n",
       "      <th></th>\n",
       "      <th></th>\n",
       "      <th></th>\n",
       "      <th></th>\n",
       "      <th></th>\n",
       "    </tr>\n",
       "  </thead>\n",
       "  <tbody>\n",
       "    <tr>\n",
       "      <th>종로구</th>\n",
       "      <td>152211</td>\n",
       "      <td>141379</td>\n",
       "      <td>10832</td>\n",
       "      <td>1980</td>\n",
       "      <td>85</td>\n",
       "      <td>291</td>\n",
       "      <td>1604</td>\n",
       "    </tr>\n",
       "    <tr>\n",
       "      <th>중구</th>\n",
       "      <td>130785</td>\n",
       "      <td>120437</td>\n",
       "      <td>10348</td>\n",
       "      <td>2584</td>\n",
       "      <td>403</td>\n",
       "      <td>137</td>\n",
       "      <td>2044</td>\n",
       "    </tr>\n",
       "    <tr>\n",
       "      <th>용산구</th>\n",
       "      <td>233284</td>\n",
       "      <td>218650</td>\n",
       "      <td>14634</td>\n",
       "      <td>2847</td>\n",
       "      <td>422</td>\n",
       "      <td>334</td>\n",
       "      <td>2091</td>\n",
       "    </tr>\n",
       "    <tr>\n",
       "      <th>성동구</th>\n",
       "      <td>288234</td>\n",
       "      <td>281000</td>\n",
       "      <td>7234</td>\n",
       "      <td>4047</td>\n",
       "      <td>367</td>\n",
       "      <td>232</td>\n",
       "      <td>3448</td>\n",
       "    </tr>\n",
       "    <tr>\n",
       "      <th>광진구</th>\n",
       "      <td>351252</td>\n",
       "      <td>337416</td>\n",
       "      <td>13836</td>\n",
       "      <td>3480</td>\n",
       "      <td>662</td>\n",
       "      <td>271</td>\n",
       "      <td>2547</td>\n",
       "    </tr>\n",
       "  </tbody>\n",
       "</table>\n",
       "</div>"
      ],
      "text/plain": [
       "        총인구     한국인    외국인  cctv 총계  2021년  2022년  2020년 이전\n",
       "구 별                                                        \n",
       "종로구  152211  141379  10832     1980     85    291      1604\n",
       "중구   130785  120437  10348     2584    403    137      2044\n",
       "용산구  233284  218650  14634     2847    422    334      2091\n",
       "성동구  288234  281000   7234     4047    367    232      3448\n",
       "광진구  351252  337416  13836     3480    662    271      2547"
      ]
     },
     "execution_count": 23,
     "metadata": {},
     "output_type": "execute_result"
    }
   ],
   "source": [
    "merge_df.head()"
   ]
  },
  {
   "cell_type": "code",
   "execution_count": 24,
   "metadata": {},
   "outputs": [],
   "source": [
    "# 1인당 cctv 비율 구하기\n",
    "# 1인당 cctv 비율 =  cctv 총계 / 총인구 * 100\n",
    "merge_df['1인당 cctv 비율'] = merge_df['cctv 총계'] / merge_df['총인구'] * 100"
   ]
  },
  {
   "cell_type": "code",
   "execution_count": 25,
   "metadata": {},
   "outputs": [
    {
     "data": {
      "text/html": [
       "<div>\n",
       "<style scoped>\n",
       "    .dataframe tbody tr th:only-of-type {\n",
       "        vertical-align: middle;\n",
       "    }\n",
       "\n",
       "    .dataframe tbody tr th {\n",
       "        vertical-align: top;\n",
       "    }\n",
       "\n",
       "    .dataframe thead th {\n",
       "        text-align: right;\n",
       "    }\n",
       "</style>\n",
       "<table border=\"1\" class=\"dataframe\">\n",
       "  <thead>\n",
       "    <tr style=\"text-align: right;\">\n",
       "      <th></th>\n",
       "      <th>총인구</th>\n",
       "      <th>한국인</th>\n",
       "      <th>외국인</th>\n",
       "      <th>cctv 총계</th>\n",
       "      <th>2021년</th>\n",
       "      <th>2022년</th>\n",
       "      <th>2020년 이전</th>\n",
       "      <th>1인당 cctv 비율</th>\n",
       "    </tr>\n",
       "    <tr>\n",
       "      <th>구 별</th>\n",
       "      <th></th>\n",
       "      <th></th>\n",
       "      <th></th>\n",
       "      <th></th>\n",
       "      <th></th>\n",
       "      <th></th>\n",
       "      <th></th>\n",
       "      <th></th>\n",
       "    </tr>\n",
       "  </thead>\n",
       "  <tbody>\n",
       "    <tr>\n",
       "      <th>종로구</th>\n",
       "      <td>152211</td>\n",
       "      <td>141379</td>\n",
       "      <td>10832</td>\n",
       "      <td>1980</td>\n",
       "      <td>85</td>\n",
       "      <td>291</td>\n",
       "      <td>1604</td>\n",
       "      <td>1.300826</td>\n",
       "    </tr>\n",
       "    <tr>\n",
       "      <th>중구</th>\n",
       "      <td>130785</td>\n",
       "      <td>120437</td>\n",
       "      <td>10348</td>\n",
       "      <td>2584</td>\n",
       "      <td>403</td>\n",
       "      <td>137</td>\n",
       "      <td>2044</td>\n",
       "      <td>1.975762</td>\n",
       "    </tr>\n",
       "    <tr>\n",
       "      <th>용산구</th>\n",
       "      <td>233284</td>\n",
       "      <td>218650</td>\n",
       "      <td>14634</td>\n",
       "      <td>2847</td>\n",
       "      <td>422</td>\n",
       "      <td>334</td>\n",
       "      <td>2091</td>\n",
       "      <td>1.220401</td>\n",
       "    </tr>\n",
       "  </tbody>\n",
       "</table>\n",
       "</div>"
      ],
      "text/plain": [
       "        총인구     한국인    외국인  cctv 총계  2021년  2022년  2020년 이전  1인당 cctv 비율\n",
       "구 별                                                                     \n",
       "종로구  152211  141379  10832     1980     85    291      1604     1.300826\n",
       "중구   130785  120437  10348     2584    403    137      2044     1.975762\n",
       "용산구  233284  218650  14634     2847    422    334      2091     1.220401"
      ]
     },
     "execution_count": 25,
     "metadata": {},
     "output_type": "execute_result"
    }
   ],
   "source": [
    "merge_df.head(3)"
   ]
  },
  {
   "cell_type": "code",
   "execution_count": 26,
   "metadata": {},
   "outputs": [],
   "source": [
    "# 상관계수 \n",
    "# 변수간의 관계의 정도와 방향을 수치로 요약해 주는 지표\n",
    "# 수치는 -1 ~ +1 사이의 값으로 나타남\n",
    "# 0에 가까울수록 상관 관계는 낮아지며, -1이나 +1에 가까울수록 상관관계는 높아짐\n",
    "# 증감의 방향이 + 인 경우에는 정적인 상관관계, -인 경우에는 부정적인 상관관계가 있다고 봄"
   ]
  },
  {
   "cell_type": "code",
   "execution_count": 27,
   "metadata": {},
   "outputs": [
    {
     "data": {
      "text/plain": [
       "0.4815384615384616"
      ]
     },
     "execution_count": 27,
     "metadata": {},
     "output_type": "execute_result"
    }
   ],
   "source": [
    "merge_df['총인구'].corr(merge_df['cctv 총계'],method='spearman')"
   ]
  },
  {
   "cell_type": "code",
   "execution_count": 28,
   "metadata": {},
   "outputs": [
    {
     "data": {
      "text/plain": [
       "0.07461538461538461"
      ]
     },
     "execution_count": 28,
     "metadata": {},
     "output_type": "execute_result"
    }
   ],
   "source": [
    "merge_df['외국인'].corr(merge_df['cctv 총계'],method='spearman')"
   ]
  },
  {
   "cell_type": "markdown",
   "metadata": {},
   "source": [
    "##### 시각화"
   ]
  },
  {
   "cell_type": "code",
   "execution_count": 29,
   "metadata": {},
   "outputs": [
    {
     "data": {
      "text/plain": [
       "Text(0.5, 1.0, '구 별 1인당 cctv 비율')"
      ]
     },
     "execution_count": 29,
     "metadata": {},
     "output_type": "execute_result"
    },
    {
     "data": {
      "image/png": "[encoded data removed]",
      "text/plain": [
       "<Figure size 1200x800 with 1 Axes>"
      ]
     },
     "metadata": {},
     "output_type": "display_data"
    }
   ],
   "source": [
    "plt.figure(figsize=(12,8))\n",
    "\n",
    "plt.barh(merge_df.index,merge_df['1인당 cctv 비율'])\n",
    "plt.xlabel(\"cctv 비율\")\n",
    "plt.ylabel(\"구 별\")\n",
    "plt.title(\"구 별 1인당 cctv 비율\")"
   ]
  },
  {
   "cell_type": "code",
   "execution_count": 30,
   "metadata": {},
   "outputs": [
    {
     "data": {
      "text/plain": [
       "<Axes: ylabel='구 별'>"
      ]
     },
     "execution_count": 30,
     "metadata": {},
     "output_type": "execute_result"
    },
    {
     "data": {
      "image/png": "[encoded data removed]",
      "text/plain": [
       "<Figure size 1000x500 with 1 Axes>"
      ]
     },
     "metadata": {},
     "output_type": "display_data"
    }
   ],
   "source": [
    "merge_df['1인당 cctv 비율'].sort_values().plot.barh()\n",
    "# plt.title(\"구 별 1인당 cctv 비율\")\n",
    "# plt.show()"
   ]
  },
  {
   "cell_type": "code",
   "execution_count": 31,
   "metadata": {},
   "outputs": [
    {
     "data": {
      "text/plain": [
       "<Axes: xlabel='1인당 cctv 비율', ylabel='구 별'>"
      ]
     },
     "execution_count": 31,
     "metadata": {},
     "output_type": "execute_result"
    },
    {
     "data": {
      "image/png": "[encoded data removed]",
      "text/plain": [
       "<Figure size 1000x500 with 1 Axes>"
      ]
     },
     "metadata": {},
     "output_type": "display_data"
    }
   ],
   "source": [
    "sns.barplot(data=merge_df,x='1인당 cctv 비율',y=merge_df.index,order=merge_df['1인당 cctv 비율'].sort_values(ascending=False).index)"
   ]
  },
  {
   "cell_type": "markdown",
   "metadata": {},
   "source": [
    "##### 3. 5대 범죄"
   ]
  },
  {
   "cell_type": "code",
   "execution_count": 32,
   "metadata": {},
   "outputs": [
    {
     "data": {
      "text/html": [
       "<div>\n",
       "<style scoped>\n",
       "    .dataframe tbody tr th:only-of-type {\n",
       "        vertical-align: middle;\n",
       "    }\n",
       "\n",
       "    .dataframe tbody tr th {\n",
       "        vertical-align: top;\n",
       "    }\n",
       "\n",
       "    .dataframe thead th {\n",
       "        text-align: right;\n",
       "    }\n",
       "</style>\n",
       "<table border=\"1\" class=\"dataframe\">\n",
       "  <thead>\n",
       "    <tr style=\"text-align: right;\">\n",
       "      <th></th>\n",
       "      <th>자치구별(2)</th>\n",
       "      <th>발생</th>\n",
       "      <th>검거</th>\n",
       "    </tr>\n",
       "  </thead>\n",
       "  <tbody>\n",
       "    <tr>\n",
       "      <th>0</th>\n",
       "      <td>종로구</td>\n",
       "      <td>2712</td>\n",
       "      <td>2755</td>\n",
       "    </tr>\n",
       "    <tr>\n",
       "      <th>1</th>\n",
       "      <td>중구</td>\n",
       "      <td>2861</td>\n",
       "      <td>2072</td>\n",
       "    </tr>\n",
       "    <tr>\n",
       "      <th>2</th>\n",
       "      <td>용산구</td>\n",
       "      <td>2381</td>\n",
       "      <td>1659</td>\n",
       "    </tr>\n",
       "  </tbody>\n",
       "</table>\n",
       "</div>"
      ],
      "text/plain": [
       "  자치구별(2)    발생    검거\n",
       "0     종로구  2712  2755\n",
       "1      중구  2861  2072\n",
       "2     용산구  2381  1659"
      ]
     },
     "execution_count": 32,
     "metadata": {},
     "output_type": "execute_result"
    }
   ],
   "source": [
    "crime_df = pd.read_excel(\"./data/5대범죄_2021.xlsx\", usecols='B:D', skiprows=[0,1,2,4])\n",
    "crime_df.head(3)"
   ]
  },
  {
   "cell_type": "code",
   "execution_count": 33,
   "metadata": {},
   "outputs": [],
   "source": [
    "# 컬럼명 변경\n",
    "# 구 별, 범죄건, 검거건\n",
    "crime_df.columns = ['구 별', '범죄건', '검거건']\n",
    "\n",
    "# 인덱스 설정 : 구 별\n",
    "crime_df.set_index('구 별',inplace=True)\n",
    "\n",
    "# 검거율 = 검거건 / 범죄건 * 100\n",
    "crime_df['검거율'] = crime_df['검거건'] / crime_df['범죄건'] * 100"
   ]
  },
  {
   "cell_type": "code",
   "execution_count": 34,
   "metadata": {},
   "outputs": [
    {
     "data": {
      "text/html": [
       "<div>\n",
       "<style scoped>\n",
       "    .dataframe tbody tr th:only-of-type {\n",
       "        vertical-align: middle;\n",
       "    }\n",
       "\n",
       "    .dataframe tbody tr th {\n",
       "        vertical-align: top;\n",
       "    }\n",
       "\n",
       "    .dataframe thead th {\n",
       "        text-align: right;\n",
       "    }\n",
       "</style>\n",
       "<table border=\"1\" class=\"dataframe\">\n",
       "  <thead>\n",
       "    <tr style=\"text-align: right;\">\n",
       "      <th></th>\n",
       "      <th>범죄건</th>\n",
       "      <th>검거건</th>\n",
       "      <th>검거율</th>\n",
       "    </tr>\n",
       "    <tr>\n",
       "      <th>구 별</th>\n",
       "      <th></th>\n",
       "      <th></th>\n",
       "      <th></th>\n",
       "    </tr>\n",
       "  </thead>\n",
       "  <tbody>\n",
       "    <tr>\n",
       "      <th>종로구</th>\n",
       "      <td>2712</td>\n",
       "      <td>2755</td>\n",
       "      <td>101.585546</td>\n",
       "    </tr>\n",
       "    <tr>\n",
       "      <th>중구</th>\n",
       "      <td>2861</td>\n",
       "      <td>2072</td>\n",
       "      <td>72.422230</td>\n",
       "    </tr>\n",
       "  </tbody>\n",
       "</table>\n",
       "</div>"
      ],
      "text/plain": [
       "      범죄건   검거건         검거율\n",
       "구 별                        \n",
       "종로구  2712  2755  101.585546\n",
       "중구   2861  2072   72.422230"
      ]
     },
     "execution_count": 34,
     "metadata": {},
     "output_type": "execute_result"
    }
   ],
   "source": [
    "crime_df.head(2)"
   ]
  },
  {
   "cell_type": "code",
   "execution_count": 36,
   "metadata": {},
   "outputs": [
    {
     "data": {
      "text/html": [
       "<div>\n",
       "<style scoped>\n",
       "    .dataframe tbody tr th:only-of-type {\n",
       "        vertical-align: middle;\n",
       "    }\n",
       "\n",
       "    .dataframe tbody tr th {\n",
       "        vertical-align: top;\n",
       "    }\n",
       "\n",
       "    .dataframe thead th {\n",
       "        text-align: right;\n",
       "    }\n",
       "</style>\n",
       "<table border=\"1\" class=\"dataframe\">\n",
       "  <thead>\n",
       "    <tr style=\"text-align: right;\">\n",
       "      <th></th>\n",
       "      <th>총인구</th>\n",
       "      <th>한국인</th>\n",
       "      <th>외국인</th>\n",
       "      <th>cctv 총계</th>\n",
       "      <th>2021년</th>\n",
       "      <th>2022년</th>\n",
       "      <th>2020년 이전</th>\n",
       "      <th>1인당 cctv 비율</th>\n",
       "      <th>범죄건</th>\n",
       "      <th>검거건</th>\n",
       "      <th>검거율</th>\n",
       "    </tr>\n",
       "    <tr>\n",
       "      <th>구 별</th>\n",
       "      <th></th>\n",
       "      <th></th>\n",
       "      <th></th>\n",
       "      <th></th>\n",
       "      <th></th>\n",
       "      <th></th>\n",
       "      <th></th>\n",
       "      <th></th>\n",
       "      <th></th>\n",
       "      <th></th>\n",
       "      <th></th>\n",
       "    </tr>\n",
       "  </thead>\n",
       "  <tbody>\n",
       "    <tr>\n",
       "      <th>종로구</th>\n",
       "      <td>152211</td>\n",
       "      <td>141379</td>\n",
       "      <td>10832</td>\n",
       "      <td>1980</td>\n",
       "      <td>85</td>\n",
       "      <td>291</td>\n",
       "      <td>1604</td>\n",
       "      <td>1.300826</td>\n",
       "      <td>2712</td>\n",
       "      <td>2755</td>\n",
       "      <td>101.585546</td>\n",
       "    </tr>\n",
       "    <tr>\n",
       "      <th>중구</th>\n",
       "      <td>130785</td>\n",
       "      <td>120437</td>\n",
       "      <td>10348</td>\n",
       "      <td>2584</td>\n",
       "      <td>403</td>\n",
       "      <td>137</td>\n",
       "      <td>2044</td>\n",
       "      <td>1.975762</td>\n",
       "      <td>2861</td>\n",
       "      <td>2072</td>\n",
       "      <td>72.422230</td>\n",
       "    </tr>\n",
       "    <tr>\n",
       "      <th>용산구</th>\n",
       "      <td>233284</td>\n",
       "      <td>218650</td>\n",
       "      <td>14634</td>\n",
       "      <td>2847</td>\n",
       "      <td>422</td>\n",
       "      <td>334</td>\n",
       "      <td>2091</td>\n",
       "      <td>1.220401</td>\n",
       "      <td>2381</td>\n",
       "      <td>1659</td>\n",
       "      <td>69.676606</td>\n",
       "    </tr>\n",
       "    <tr>\n",
       "      <th>성동구</th>\n",
       "      <td>288234</td>\n",
       "      <td>281000</td>\n",
       "      <td>7234</td>\n",
       "      <td>4047</td>\n",
       "      <td>367</td>\n",
       "      <td>232</td>\n",
       "      <td>3448</td>\n",
       "      <td>1.404068</td>\n",
       "      <td>2112</td>\n",
       "      <td>1510</td>\n",
       "      <td>71.496212</td>\n",
       "    </tr>\n",
       "    <tr>\n",
       "      <th>광진구</th>\n",
       "      <td>351252</td>\n",
       "      <td>337416</td>\n",
       "      <td>13836</td>\n",
       "      <td>3480</td>\n",
       "      <td>662</td>\n",
       "      <td>271</td>\n",
       "      <td>2547</td>\n",
       "      <td>0.990742</td>\n",
       "      <td>3087</td>\n",
       "      <td>2202</td>\n",
       "      <td>71.331390</td>\n",
       "    </tr>\n",
       "  </tbody>\n",
       "</table>\n",
       "</div>"
      ],
      "text/plain": [
       "        총인구     한국인    외국인  cctv 총계  2021년  2022년  2020년 이전  1인당 cctv 비율  \\\n",
       "구 별                                                                        \n",
       "종로구  152211  141379  10832     1980     85    291      1604     1.300826   \n",
       "중구   130785  120437  10348     2584    403    137      2044     1.975762   \n",
       "용산구  233284  218650  14634     2847    422    334      2091     1.220401   \n",
       "성동구  288234  281000   7234     4047    367    232      3448     1.404068   \n",
       "광진구  351252  337416  13836     3480    662    271      2547     0.990742   \n",
       "\n",
       "      범죄건   검거건         검거율  \n",
       "구 별                          \n",
       "종로구  2712  2755  101.585546  \n",
       "중구   2861  2072   72.422230  \n",
       "용산구  2381  1659   69.676606  \n",
       "성동구  2112  1510   71.496212  \n",
       "광진구  3087  2202   71.331390  "
      ]
     },
     "execution_count": 36,
     "metadata": {},
     "output_type": "execute_result"
    }
   ],
   "source": [
    "# crime_df, merge_df 병합 : merge(), concat()\n",
    "\n",
    "merge_crime_df = pd.concat([merge_df,crime_df],axis=1)\n",
    "merge_crime_df.head()"
   ]
  },
  {
   "cell_type": "code",
   "execution_count": 39,
   "metadata": {},
   "outputs": [
    {
     "data": {
      "image/png": "[encoded data removed]",
      "text/plain": [
       "<Figure size 1000x500 with 1 Axes>"
      ]
     },
     "metadata": {},
     "output_type": "display_data"
    }
   ],
   "source": [
    "# 검거건, cctv 총계\n",
    "# 범죄건, cctv 총계\n",
    "\n",
    "ax = merge_crime_df.plot.scatter(x=\"검거건\",y=\"cctv 총계\",color=\"red\",s=50,label=\"검거\")\n",
    "merge_crime_df.plot.scatter(x=\"범죄건\",y=\"cctv 총계\",color=\"blue\",s=30,label=\"범죄\", ax=ax)\n",
    "plt.xlabel(\"검거건/범죄건\")\n",
    "plt.show()"
   ]
  },
  {
   "cell_type": "code",
   "execution_count": 40,
   "metadata": {},
   "outputs": [
    {
     "data": {
      "image/png": "[encoded data removed]",
      "text/plain": [
       "<Figure size 605.375x500 with 1 Axes>"
      ]
     },
     "metadata": {},
     "output_type": "display_data"
    }
   ],
   "source": [
    "g = sns.relplot(x=\"검거건\",y=\"cctv 총계\",color=\"red\",size=\"총인구\",data=merge_crime_df)"
   ]
  },
  {
   "cell_type": "code",
   "execution_count": null,
   "metadata": {},
   "outputs": [],
   "source": []
  }
 ],
 "metadata": {
  "kernelspec": {
   "display_name": "pythonsource",
   "language": "python",
   "name": "python3"
  },
  "language_info": {
   "codemirror_mode": {
    "name": "ipython",
    "version": 3
   },
   "file_extension": ".py",
   "mimetype": "text/x-python",
   "name": "python",
   "nbconvert_exporter": "python",
   "pygments_lexer": "ipython3",
   "version": "3.11.4"
  },
  "orig_nbformat": 4
 },
 "nbformat": 4,
 "nbformat_minor": 2
}
