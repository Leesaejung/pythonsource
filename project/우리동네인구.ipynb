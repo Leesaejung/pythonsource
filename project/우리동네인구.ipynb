{
 "cells": [
  {
   "cell_type": "code",
   "execution_count": 1,
   "metadata": {},
   "outputs": [],
   "source": [
    "import pandas as pd\n",
    "import matplotlib.pyplot as plt"
   ]
  },
  {
   "cell_type": "code",
   "execution_count": 2,
   "metadata": {},
   "outputs": [],
   "source": [
    "plt.rcParams[\"font.family\"] =\"Malgun Gothic\"\n",
    "plt.rcParams[\"axes.unicode_minus\"] = False"
   ]
  },
  {
   "cell_type": "code",
   "execution_count": 24,
   "metadata": {},
   "outputs": [],
   "source": [
    "# warnings : 함수를 현재는 지원하나 나중에 삭제 시 경고 메세지가 발생\n",
    "import warnings\n",
    "warnings.simplefilter(\"ignore\")"
   ]
  },
  {
   "cell_type": "code",
   "execution_count": 6,
   "metadata": {},
   "outputs": [
    {
     "data": {
      "text/html": [
       "<div>\n",
       "<style scoped>\n",
       "    .dataframe tbody tr th:only-of-type {\n",
       "        vertical-align: middle;\n",
       "    }\n",
       "\n",
       "    .dataframe tbody tr th {\n",
       "        vertical-align: top;\n",
       "    }\n",
       "\n",
       "    .dataframe thead th {\n",
       "        text-align: right;\n",
       "    }\n",
       "</style>\n",
       "<table border=\"1\" class=\"dataframe\">\n",
       "  <thead>\n",
       "    <tr style=\"text-align: right;\">\n",
       "      <th></th>\n",
       "      <th>행정구역</th>\n",
       "      <th>2023년06월_계_총인구수</th>\n",
       "      <th>2023년06월_계_연령구간인구수</th>\n",
       "      <th>2023년06월_계_0~9세</th>\n",
       "      <th>2023년06월_계_10~19세</th>\n",
       "      <th>2023년06월_계_20~29세</th>\n",
       "      <th>2023년06월_계_30~39세</th>\n",
       "      <th>2023년06월_계_40~49세</th>\n",
       "      <th>2023년06월_계_50~59세</th>\n",
       "      <th>2023년06월_계_60~69세</th>\n",
       "      <th>2023년06월_계_70~79세</th>\n",
       "      <th>2023년06월_계_80~89세</th>\n",
       "      <th>2023년06월_계_90~99세</th>\n",
       "      <th>2023년06월_계_100세 이상</th>\n",
       "    </tr>\n",
       "  </thead>\n",
       "  <tbody>\n",
       "    <tr>\n",
       "      <th>0</th>\n",
       "      <td>서울특별시  (1100000000)</td>\n",
       "      <td>9414093</td>\n",
       "      <td>9414093</td>\n",
       "      <td>528601</td>\n",
       "      <td>742606</td>\n",
       "      <td>1376043</td>\n",
       "      <td>1426858</td>\n",
       "      <td>1433451</td>\n",
       "      <td>1490305</td>\n",
       "      <td>1312500</td>\n",
       "      <td>725930</td>\n",
       "      <td>332435</td>\n",
       "      <td>43869</td>\n",
       "      <td>1495</td>\n",
       "    </tr>\n",
       "  </tbody>\n",
       "</table>\n",
       "</div>"
      ],
      "text/plain": [
       "                  행정구역  2023년06월_계_총인구수  2023년06월_계_연령구간인구수  2023년06월_계_0~9세  \\\n",
       "0  서울특별시  (1100000000)          9414093             9414093           528601   \n",
       "\n",
       "   2023년06월_계_10~19세  2023년06월_계_20~29세  2023년06월_계_30~39세  2023년06월_계_40~49세  \\\n",
       "0             742606            1376043            1426858            1433451   \n",
       "\n",
       "   2023년06월_계_50~59세  2023년06월_계_60~69세  2023년06월_계_70~79세  2023년06월_계_80~89세  \\\n",
       "0            1490305            1312500             725930             332435   \n",
       "\n",
       "   2023년06월_계_90~99세  2023년06월_계_100세 이상  \n",
       "0              43869                1495  "
      ]
     },
     "execution_count": 6,
     "metadata": {},
     "output_type": "execute_result"
    }
   ],
   "source": [
    "df = pd.read_csv(\"./data/202306_202306_연령별인구현황_월간.csv\",encoding=\"ms949\",thousands=\",\")\n",
    "df.head(1)"
   ]
  },
  {
   "cell_type": "markdown",
   "metadata": {},
   "source": [
    "##### 데이터 탐색"
   ]
  },
  {
   "cell_type": "code",
   "execution_count": 7,
   "metadata": {},
   "outputs": [
    {
     "name": "stdout",
     "output_type": "stream",
     "text": [
      "<class 'pandas.core.frame.DataFrame'>\n",
      "RangeIndex: 3877 entries, 0 to 3876\n",
      "Data columns (total 14 columns):\n",
      " #   Column              Non-Null Count  Dtype \n",
      "---  ------              --------------  ----- \n",
      " 0   행정구역                3877 non-null   object\n",
      " 1   2023년06월_계_총인구수     3877 non-null   int64 \n",
      " 2   2023년06월_계_연령구간인구수  3877 non-null   int64 \n",
      " 3   2023년06월_계_0~9세     3877 non-null   int64 \n",
      " 4   2023년06월_계_10~19세   3877 non-null   int64 \n",
      " 5   2023년06월_계_20~29세   3877 non-null   int64 \n",
      " 6   2023년06월_계_30~39세   3877 non-null   int64 \n",
      " 7   2023년06월_계_40~49세   3877 non-null   int64 \n",
      " 8   2023년06월_계_50~59세   3877 non-null   int64 \n",
      " 9   2023년06월_계_60~69세   3877 non-null   int64 \n",
      " 10  2023년06월_계_70~79세   3877 non-null   int64 \n",
      " 11  2023년06월_계_80~89세   3877 non-null   int64 \n",
      " 12  2023년06월_계_90~99세   3877 non-null   int64 \n",
      " 13  2023년06월_계_100세 이상  3877 non-null   int64 \n",
      "dtypes: int64(13), object(1)\n",
      "memory usage: 424.2+ KB\n"
     ]
    }
   ],
   "source": [
    "df.info()"
   ]
  },
  {
   "cell_type": "code",
   "execution_count": 9,
   "metadata": {},
   "outputs": [
    {
     "data": {
      "text/html": [
       "<div>\n",
       "<style scoped>\n",
       "    .dataframe tbody tr th:only-of-type {\n",
       "        vertical-align: middle;\n",
       "    }\n",
       "\n",
       "    .dataframe tbody tr th {\n",
       "        vertical-align: top;\n",
       "    }\n",
       "\n",
       "    .dataframe thead th {\n",
       "        text-align: right;\n",
       "    }\n",
       "</style>\n",
       "<table border=\"1\" class=\"dataframe\">\n",
       "  <thead>\n",
       "    <tr style=\"text-align: right;\">\n",
       "      <th></th>\n",
       "      <th>행정구역</th>\n",
       "    </tr>\n",
       "  </thead>\n",
       "  <tbody>\n",
       "    <tr>\n",
       "      <th>count</th>\n",
       "      <td>3877</td>\n",
       "    </tr>\n",
       "    <tr>\n",
       "      <th>unique</th>\n",
       "      <td>3877</td>\n",
       "    </tr>\n",
       "    <tr>\n",
       "      <th>top</th>\n",
       "      <td>서울특별시  (1100000000)</td>\n",
       "    </tr>\n",
       "    <tr>\n",
       "      <th>freq</th>\n",
       "      <td>1</td>\n",
       "    </tr>\n",
       "  </tbody>\n",
       "</table>\n",
       "</div>"
      ],
      "text/plain": [
       "                       행정구역\n",
       "count                  3877\n",
       "unique                 3877\n",
       "top     서울특별시  (1100000000)\n",
       "freq                      1"
      ]
     },
     "execution_count": 9,
     "metadata": {},
     "output_type": "execute_result"
    }
   ],
   "source": [
    "# 기술요약통계\n",
    "\n",
    "df.describe(include=object)"
   ]
  },
  {
   "cell_type": "markdown",
   "metadata": {},
   "source": [
    "##### 데이터 전처리"
   ]
  },
  {
   "cell_type": "code",
   "execution_count": 12,
   "metadata": {},
   "outputs": [],
   "source": [
    "# 2023년06월_계_총인구수 => 총인구수\n",
    "# 모든 컬럼명에 \"2023년06월_계_\" 제거\n",
    "\n",
    "df.columns = df.columns.str.replace(\"2023년06월_계_\",\"\")"
   ]
  },
  {
   "cell_type": "code",
   "execution_count": 13,
   "metadata": {},
   "outputs": [
    {
     "data": {
      "text/plain": [
       "Index(['행정구역', '총인구수', '연령구간인구수', '0~9세', '10~19세', '20~29세', '30~39세',\n",
       "       '40~49세', '50~59세', '60~69세', '70~79세', '80~89세', '90~99세', '100세 이상'],\n",
       "      dtype='object')"
      ]
     },
     "execution_count": 13,
     "metadata": {},
     "output_type": "execute_result"
    }
   ],
   "source": [
    "df.columns"
   ]
  },
  {
   "cell_type": "code",
   "execution_count": 14,
   "metadata": {},
   "outputs": [],
   "source": [
    "# 컬럼 제거 - 총인구수, 연령구간인구수 \n",
    "# df.drop([삭제할컬럼명 나열],axis=1,inplace=True)\n",
    "\n",
    "df.drop(columns=['총인구수', '연령구간인구수'],inplace=True)"
   ]
  },
  {
   "cell_type": "code",
   "execution_count": 15,
   "metadata": {},
   "outputs": [
    {
     "data": {
      "text/html": [
       "<div>\n",
       "<style scoped>\n",
       "    .dataframe tbody tr th:only-of-type {\n",
       "        vertical-align: middle;\n",
       "    }\n",
       "\n",
       "    .dataframe tbody tr th {\n",
       "        vertical-align: top;\n",
       "    }\n",
       "\n",
       "    .dataframe thead th {\n",
       "        text-align: right;\n",
       "    }\n",
       "</style>\n",
       "<table border=\"1\" class=\"dataframe\">\n",
       "  <thead>\n",
       "    <tr style=\"text-align: right;\">\n",
       "      <th></th>\n",
       "      <th>행정구역</th>\n",
       "      <th>0~9세</th>\n",
       "      <th>10~19세</th>\n",
       "      <th>20~29세</th>\n",
       "      <th>30~39세</th>\n",
       "      <th>40~49세</th>\n",
       "      <th>50~59세</th>\n",
       "      <th>60~69세</th>\n",
       "      <th>70~79세</th>\n",
       "      <th>80~89세</th>\n",
       "      <th>90~99세</th>\n",
       "      <th>100세 이상</th>\n",
       "    </tr>\n",
       "  </thead>\n",
       "  <tbody>\n",
       "    <tr>\n",
       "      <th>0</th>\n",
       "      <td>서울특별시  (1100000000)</td>\n",
       "      <td>528601</td>\n",
       "      <td>742606</td>\n",
       "      <td>1376043</td>\n",
       "      <td>1426858</td>\n",
       "      <td>1433451</td>\n",
       "      <td>1490305</td>\n",
       "      <td>1312500</td>\n",
       "      <td>725930</td>\n",
       "      <td>332435</td>\n",
       "      <td>43869</td>\n",
       "      <td>1495</td>\n",
       "    </tr>\n",
       "    <tr>\n",
       "      <th>1</th>\n",
       "      <td>서울특별시 종로구 (1111000000)</td>\n",
       "      <td>6110</td>\n",
       "      <td>10009</td>\n",
       "      <td>21836</td>\n",
       "      <td>19367</td>\n",
       "      <td>19459</td>\n",
       "      <td>24025</td>\n",
       "      <td>20556</td>\n",
       "      <td>11446</td>\n",
       "      <td>6619</td>\n",
       "      <td>934</td>\n",
       "      <td>36</td>\n",
       "    </tr>\n",
       "  </tbody>\n",
       "</table>\n",
       "</div>"
      ],
      "text/plain": [
       "                     행정구역    0~9세  10~19세   20~29세   30~39세   40~49세   50~59세  \\\n",
       "0     서울특별시  (1100000000)  528601  742606  1376043  1426858  1433451  1490305   \n",
       "1  서울특별시 종로구 (1111000000)    6110   10009    21836    19367    19459    24025   \n",
       "\n",
       "    60~69세  70~79세  80~89세  90~99세  100세 이상  \n",
       "0  1312500  725930  332435   43869     1495  \n",
       "1    20556   11446    6619     934       36  "
      ]
     },
     "execution_count": 15,
     "metadata": {},
     "output_type": "execute_result"
    }
   ],
   "source": [
    "df.head(2)"
   ]
  },
  {
   "cell_type": "markdown",
   "metadata": {},
   "source": [
    "##### 특정 동 데이터 탐색"
   ]
  },
  {
   "cell_type": "code",
   "execution_count": 18,
   "metadata": {},
   "outputs": [
    {
     "data": {
      "text/html": [
       "<div>\n",
       "<style scoped>\n",
       "    .dataframe tbody tr th:only-of-type {\n",
       "        vertical-align: middle;\n",
       "    }\n",
       "\n",
       "    .dataframe tbody tr th {\n",
       "        vertical-align: top;\n",
       "    }\n",
       "\n",
       "    .dataframe thead th {\n",
       "        text-align: right;\n",
       "    }\n",
       "</style>\n",
       "<table border=\"1\" class=\"dataframe\">\n",
       "  <thead>\n",
       "    <tr style=\"text-align: right;\">\n",
       "      <th></th>\n",
       "      <th>행정구역</th>\n",
       "      <th>0~9세</th>\n",
       "      <th>10~19세</th>\n",
       "      <th>20~29세</th>\n",
       "      <th>30~39세</th>\n",
       "      <th>40~49세</th>\n",
       "      <th>50~59세</th>\n",
       "      <th>60~69세</th>\n",
       "      <th>70~79세</th>\n",
       "      <th>80~89세</th>\n",
       "      <th>90~99세</th>\n",
       "      <th>100세 이상</th>\n",
       "    </tr>\n",
       "  </thead>\n",
       "  <tbody>\n",
       "    <tr>\n",
       "      <th>6</th>\n",
       "      <td>서울특별시 종로구 평창동(1111056000)</td>\n",
       "      <td>1037</td>\n",
       "      <td>1525</td>\n",
       "      <td>2103</td>\n",
       "      <td>2080</td>\n",
       "      <td>2506</td>\n",
       "      <td>3159</td>\n",
       "      <td>2748</td>\n",
       "      <td>1360</td>\n",
       "      <td>815</td>\n",
       "      <td>133</td>\n",
       "      <td>10</td>\n",
       "    </tr>\n",
       "  </tbody>\n",
       "</table>\n",
       "</div>"
      ],
      "text/plain": [
       "                        행정구역  0~9세  10~19세  20~29세  30~39세  40~49세  50~59세  \\\n",
       "6  서울특별시 종로구 평창동(1111056000)  1037    1525    2103    2080    2506    3159   \n",
       "\n",
       "   60~69세  70~79세  80~89세  90~99세  100세 이상  \n",
       "6    2748    1360     815     133       10  "
      ]
     },
     "execution_count": 18,
     "metadata": {},
     "output_type": "execute_result"
    }
   ],
   "source": [
    "df[df[\"행정구역\"] == \"서울특별시 종로구 평창동(1111056000)\"]"
   ]
  },
  {
   "cell_type": "code",
   "execution_count": 19,
   "metadata": {},
   "outputs": [
    {
     "data": {
      "text/plain": [
       "행정구역       서울특별시 종로구 평창동(1111056000)\n",
       "0~9세                            1037\n",
       "10~19세                          1525\n",
       "20~29세                          2103\n",
       "30~39세                          2080\n",
       "40~49세                          2506\n",
       "50~59세                          3159\n",
       "60~69세                          2748\n",
       "70~79세                          1360\n",
       "80~89세                           815\n",
       "90~99세                           133\n",
       "100세 이상                           10\n",
       "Name: 6, dtype: object"
      ]
     },
     "execution_count": 19,
     "metadata": {},
     "output_type": "execute_result"
    }
   ],
   "source": [
    "df.loc[6]"
   ]
  },
  {
   "cell_type": "code",
   "execution_count": 26,
   "metadata": {},
   "outputs": [
    {
     "data": {
      "text/html": [
       "<div>\n",
       "<style scoped>\n",
       "    .dataframe tbody tr th:only-of-type {\n",
       "        vertical-align: middle;\n",
       "    }\n",
       "\n",
       "    .dataframe tbody tr th {\n",
       "        vertical-align: top;\n",
       "    }\n",
       "\n",
       "    .dataframe thead th {\n",
       "        text-align: right;\n",
       "    }\n",
       "</style>\n",
       "<table border=\"1\" class=\"dataframe\">\n",
       "  <thead>\n",
       "    <tr style=\"text-align: right;\">\n",
       "      <th></th>\n",
       "      <th>행정구역</th>\n",
       "      <th>0~9세</th>\n",
       "      <th>10~19세</th>\n",
       "      <th>20~29세</th>\n",
       "      <th>30~39세</th>\n",
       "      <th>40~49세</th>\n",
       "      <th>50~59세</th>\n",
       "      <th>60~69세</th>\n",
       "      <th>70~79세</th>\n",
       "      <th>80~89세</th>\n",
       "      <th>90~99세</th>\n",
       "      <th>100세 이상</th>\n",
       "    </tr>\n",
       "  </thead>\n",
       "  <tbody>\n",
       "    <tr>\n",
       "      <th>6</th>\n",
       "      <td>서울특별시 종로구 평창동(1111056000)</td>\n",
       "      <td>1037</td>\n",
       "      <td>1525</td>\n",
       "      <td>2103</td>\n",
       "      <td>2080</td>\n",
       "      <td>2506</td>\n",
       "      <td>3159</td>\n",
       "      <td>2748</td>\n",
       "      <td>1360</td>\n",
       "      <td>815</td>\n",
       "      <td>133</td>\n",
       "      <td>10</td>\n",
       "    </tr>\n",
       "  </tbody>\n",
       "</table>\n",
       "</div>"
      ],
      "text/plain": [
       "                        행정구역  0~9세  10~19세  20~29세  30~39세  40~49세  50~59세  \\\n",
       "6  서울특별시 종로구 평창동(1111056000)  1037    1525    2103    2080    2506    3159   \n",
       "\n",
       "   60~69세  70~79세  80~89세  90~99세  100세 이상  \n",
       "6    2748    1360     815     133       10  "
      ]
     },
     "execution_count": 26,
     "metadata": {},
     "output_type": "execute_result"
    }
   ],
   "source": [
    "# contains()\n",
    "\n",
    "pyeongchang = df[df[\"행정구역\"].str.contains(\"평창동\")]\n",
    "pyeongchang"
   ]
  },
  {
   "cell_type": "code",
   "execution_count": 27,
   "metadata": {},
   "outputs": [],
   "source": [
    "pyeongchang.drop(columns=[\"행정구역\"],inplace=True)"
   ]
  },
  {
   "cell_type": "code",
   "execution_count": 30,
   "metadata": {},
   "outputs": [
    {
     "data": {
      "text/html": [
       "<div>\n",
       "<style scoped>\n",
       "    .dataframe tbody tr th:only-of-type {\n",
       "        vertical-align: middle;\n",
       "    }\n",
       "\n",
       "    .dataframe tbody tr th {\n",
       "        vertical-align: top;\n",
       "    }\n",
       "\n",
       "    .dataframe thead th {\n",
       "        text-align: right;\n",
       "    }\n",
       "</style>\n",
       "<table border=\"1\" class=\"dataframe\">\n",
       "  <thead>\n",
       "    <tr style=\"text-align: right;\">\n",
       "      <th></th>\n",
       "      <th>6</th>\n",
       "    </tr>\n",
       "  </thead>\n",
       "  <tbody>\n",
       "    <tr>\n",
       "      <th>0~9세</th>\n",
       "      <td>1037</td>\n",
       "    </tr>\n",
       "    <tr>\n",
       "      <th>10~19세</th>\n",
       "      <td>1525</td>\n",
       "    </tr>\n",
       "    <tr>\n",
       "      <th>20~29세</th>\n",
       "      <td>2103</td>\n",
       "    </tr>\n",
       "    <tr>\n",
       "      <th>30~39세</th>\n",
       "      <td>2080</td>\n",
       "    </tr>\n",
       "    <tr>\n",
       "      <th>40~49세</th>\n",
       "      <td>2506</td>\n",
       "    </tr>\n",
       "    <tr>\n",
       "      <th>50~59세</th>\n",
       "      <td>3159</td>\n",
       "    </tr>\n",
       "    <tr>\n",
       "      <th>60~69세</th>\n",
       "      <td>2748</td>\n",
       "    </tr>\n",
       "    <tr>\n",
       "      <th>70~79세</th>\n",
       "      <td>1360</td>\n",
       "    </tr>\n",
       "    <tr>\n",
       "      <th>80~89세</th>\n",
       "      <td>815</td>\n",
       "    </tr>\n",
       "    <tr>\n",
       "      <th>90~99세</th>\n",
       "      <td>133</td>\n",
       "    </tr>\n",
       "    <tr>\n",
       "      <th>100세 이상</th>\n",
       "      <td>10</td>\n",
       "    </tr>\n",
       "  </tbody>\n",
       "</table>\n",
       "</div>"
      ],
      "text/plain": [
       "            6\n",
       "0~9세     1037\n",
       "10~19세   1525\n",
       "20~29세   2103\n",
       "30~39세   2080\n",
       "40~49세   2506\n",
       "50~59세   3159\n",
       "60~69세   2748\n",
       "70~79세   1360\n",
       "80~89세    815\n",
       "90~99세    133\n",
       "100세 이상    10"
      ]
     },
     "execution_count": 30,
     "metadata": {},
     "output_type": "execute_result"
    }
   ],
   "source": [
    "# 행열 바꾸기 transpose(), T\n",
    "\n",
    "pyeongchang = pyeongchang.T\n",
    "pyeongchang"
   ]
  },
  {
   "cell_type": "code",
   "execution_count": 31,
   "metadata": {},
   "outputs": [],
   "source": [
    "pyeongchang.columns = [\"인구수\"]"
   ]
  },
  {
   "cell_type": "code",
   "execution_count": 33,
   "metadata": {},
   "outputs": [
    {
     "data": {
      "text/html": [
       "<div>\n",
       "<style scoped>\n",
       "    .dataframe tbody tr th:only-of-type {\n",
       "        vertical-align: middle;\n",
       "    }\n",
       "\n",
       "    .dataframe tbody tr th {\n",
       "        vertical-align: top;\n",
       "    }\n",
       "\n",
       "    .dataframe thead th {\n",
       "        text-align: right;\n",
       "    }\n",
       "</style>\n",
       "<table border=\"1\" class=\"dataframe\">\n",
       "  <thead>\n",
       "    <tr style=\"text-align: right;\">\n",
       "      <th></th>\n",
       "      <th>인구수</th>\n",
       "    </tr>\n",
       "  </thead>\n",
       "  <tbody>\n",
       "    <tr>\n",
       "      <th>0~9세</th>\n",
       "      <td>1037</td>\n",
       "    </tr>\n",
       "    <tr>\n",
       "      <th>10~19세</th>\n",
       "      <td>1525</td>\n",
       "    </tr>\n",
       "    <tr>\n",
       "      <th>20~29세</th>\n",
       "      <td>2103</td>\n",
       "    </tr>\n",
       "    <tr>\n",
       "      <th>30~39세</th>\n",
       "      <td>2080</td>\n",
       "    </tr>\n",
       "    <tr>\n",
       "      <th>40~49세</th>\n",
       "      <td>2506</td>\n",
       "    </tr>\n",
       "    <tr>\n",
       "      <th>50~59세</th>\n",
       "      <td>3159</td>\n",
       "    </tr>\n",
       "    <tr>\n",
       "      <th>60~69세</th>\n",
       "      <td>2748</td>\n",
       "    </tr>\n",
       "    <tr>\n",
       "      <th>70~79세</th>\n",
       "      <td>1360</td>\n",
       "    </tr>\n",
       "    <tr>\n",
       "      <th>80~89세</th>\n",
       "      <td>815</td>\n",
       "    </tr>\n",
       "    <tr>\n",
       "      <th>90~99세</th>\n",
       "      <td>133</td>\n",
       "    </tr>\n",
       "    <tr>\n",
       "      <th>100세 이상</th>\n",
       "      <td>10</td>\n",
       "    </tr>\n",
       "  </tbody>\n",
       "</table>\n",
       "</div>"
      ],
      "text/plain": [
       "          인구수\n",
       "0~9세     1037\n",
       "10~19세   1525\n",
       "20~29세   2103\n",
       "30~39세   2080\n",
       "40~49세   2506\n",
       "50~59세   3159\n",
       "60~69세   2748\n",
       "70~79세   1360\n",
       "80~89세    815\n",
       "90~99세    133\n",
       "100세 이상    10"
      ]
     },
     "execution_count": 33,
     "metadata": {},
     "output_type": "execute_result"
    }
   ],
   "source": [
    "pyeongchang"
   ]
  },
  {
   "cell_type": "code",
   "execution_count": 40,
   "metadata": {},
   "outputs": [
    {
     "data": {
      "image/png": "[encoded data removed]",
      "text/plain": [
       "<Figure size 900x600 with 1 Axes>"
      ]
     },
     "metadata": {},
     "output_type": "display_data"
    }
   ],
   "source": [
    "# 평창동 선차트\n",
    "# 평창동 인구수 \n",
    "plt.figure(figsize=(9,6))\n",
    "plt.title(\"평창동 인구수\")\n",
    "plt.ylabel(\"명\",rotation=0,labelpad=10)\n",
    "g = plt.plot(pyeongchang.index,pyeongchang[\"인구수\"])"
   ]
  },
  {
   "cell_type": "code",
   "execution_count": 43,
   "metadata": {},
   "outputs": [
    {
     "data": {
      "image/png": "[encoded data removed]",
      "text/plain": [
       "<Figure size 900x600 with 1 Axes>"
      ]
     },
     "metadata": {},
     "output_type": "display_data"
    }
   ],
   "source": [
    "plt.figure(figsize=(9,6))\n",
    "plt.title(\"평창동 인구수\")\n",
    "plt.xlabel(\"명\",rotation=0,labelpad=10)\n",
    "g = plt.barh(pyeongchang.index,pyeongchang[\"인구수\"],color=\"lightblue\")"
   ]
  },
  {
   "cell_type": "code",
   "execution_count": 44,
   "metadata": {},
   "outputs": [],
   "source": [
    "dong = input(\"인구구조가 알고 싶은 지역의 이름(읍면동 단위)를 입력해 주세요\")"
   ]
  },
  {
   "cell_type": "code",
   "execution_count": null,
   "metadata": {},
   "outputs": [],
   "source": [
    "# contains()\n",
    "\n",
    "find_dong = df[df[\"행정구역\"].str.contains(dong)]\n",
    "\n",
    "find_dong.drop(columns=[\"행정구역\"],inplace=True)\n",
    "\n",
    "# 행열바꿈\n",
    "find_dong = find_dong.T\n",
    "\n",
    "# 컬럼명 변경\n",
    "find_dong.columns = [\"인구수\"]\n",
    "\n",
    "# 차트작성\n",
    "plt.figure(figsize=(9,6))\n",
    "plt.title(dong + \" 인구수\")\n",
    "plt.xlabel(\"명\",rotation=0,labelpad=10)\n",
    "g = plt.barh(find_dong.index,find_dong[\"인구수\"],color=\"lightblue\")"
   ]
  }
 ],
 "metadata": {
  "kernelspec": {
   "display_name": "pythonsource",
   "language": "python",
   "name": "python3"
  },
  "language_info": {
   "codemirror_mode": {
    "name": "ipython",
    "version": 3
   },
   "file_extension": ".py",
   "mimetype": "text/x-python",
   "name": "python",
   "nbconvert_exporter": "python",
   "pygments_lexer": "ipython3",
   "version": "3.11.4"
  },
  "orig_nbformat": 4
 },
 "nbformat": 4,
 "nbformat_minor": 2
}
